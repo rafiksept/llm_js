{
 "cells": [
  {
   "cell_type": "code",
   "execution_count": 15,
   "metadata": {},
   "outputs": [],
   "source": [
    "from datetime import datetime\n",
    "from langchain_core.tools import tool\n",
    "import json\n",
    "from langchain_groq import ChatGroq\n",
    "import requests\n",
    "import os\n",
    "from dotenv import load_dotenv\n",
    "load_dotenv()\n",
    "\n",
    "groq_api_key = os.getenv(\"GROQ_API_KEY\")\n",
    "sectors_api_key = os.getenv(\"SECTORS_API_KEY\")\n",
    "\n",
    "llm = ChatGroq(temperature=0, model_name=\"llama3-70b-8192\", groq_api_key = groq_api_key)\n",
    "\n",
    "@tool\n",
    "def get_daily_transaction_data(stock: str, start_date:str, end_date:str ) -> str:\n",
    "    \"\"\"Get daily transaction data for stock, such as close price, volume, and market cap on certain date\"\"\"\n",
    "\n",
    "    url = f\"https://api.sectors.app/v1/daily/{stock}/?start={start_date}&end={end_date}\"\n",
    "    api_key = sectors_api_key\n",
    "\n",
    "    headers = {\"Authorization\": api_key}\n",
    "    response = requests.get(url, headers = headers)\n",
    "\n",
    "    if response.status_code == 200:\n",
    "        data = response.json()\n",
    "        result = json.dumps(data)\n",
    "    else:\n",
    "        print(response.status_code)\n",
    "    return result\n",
    "\n",
    "@tool\n",
    "def get_top_companies_based_on_transaction_volume(start_date:str, end_date:str, top_n:str) -> str:\n",
    "    \"\"\"Get top companies based on transaction volume\"\"\"\n",
    "\n",
    "    url = f\"https://api.sectors.app/v1/most-traded/?start={start_date}&end={end_date}&n_stock={top_n}\"\n",
    "    api_key = sectors_api_key\n",
    "\n",
    "    headers = {\"Authorization\": api_key}\n",
    "    response = requests.get(url, headers = headers)\n",
    "\n",
    "    if response.status_code == 200:\n",
    "        data = response.json()\n",
    "        result = json.dumps(data)\n",
    "    else:\n",
    "        print(response.status_code)\n",
    "    return result\n",
    "\n",
    "@tool\n",
    "def get_company_info(stock:str) -> str:\n",
    "  \"\"\" Get company info, such as company name, listing board, industry, sub industry, sector, sub sector, market cap, market cap rank, address, employee num, listing date, website, phone, email, last close price, latest close date, daily close change\"\"\"\n",
    "\n",
    "  url = f\"https://api.sectors.app/v1/company/report/{stock}/?sections=overview\"\n",
    "\n",
    "  headers = {\"Authorization\": sectors_api_key}\n",
    "  response = requests.get(url, headers = headers)\n",
    "\n",
    "  if response.status_code == 200:\n",
    "    data = response.json()\n",
    "    result = json.dumps(data)\n",
    "  else:\n",
    "    print(response.status_code)\n",
    "  return result\n",
    "\n",
    "\n",
    "# SIMPLE QUERY\n",
    "simple_query = \"Give me the top 3 companies based on transaction volume on 2 April 2024\"\n",
    "\n",
    "# INTERMEDIATE QUERY\n",
    "intermediate_query = \"Based on the closing prices of BBRI from April 1 to April 28, is the trend positive or negative? Give me the detailed reason\"\n",
    "\n",
    "# COMPLEX QUERY\n",
    "complex_query = \"What were the market cap of BBCA and BREN? Which one was higher? For a stock with a higher market capitalization, could you also provide me with the email, phone number, and website, as I am interested in investing there?\"\n",
    "\n",
    "queries = [simple_query, intermediate_query, complex_query]\n",
    "\n",
    "tools = [get_daily_transaction_data, get_top_companies_based_on_transaction_volume, get_company_info]\n",
    "\n",
    "llm = ChatGroq(temperature=0, model_name=\"llama3-70b-8192\", groq_api_key = groq_api_key)\n",
    "llm_with_tools = llm.bind_tools(tools)\n"
   ]
  },
  {
   "cell_type": "code",
   "execution_count": 18,
   "metadata": {},
   "outputs": [],
   "source": [
    "def generate_output(query):\n",
    "    messages = [(\"system\", \"You're a helpful financial assistant\"), (\"human\", query)]\n",
    "    ai_msg = llm_with_tools.invoke(messages)\n",
    "    # print(ai_msg.tool_calls)\n",
    "    for tool_call in ai_msg.tool_calls:\n",
    "        selected_tool = {\"get_daily_transaction_data\": get_daily_transaction_data, \n",
    "                        \"get_top_companies_based_on_transaction_volume\": get_top_companies_based_on_transaction_volume,\n",
    "                        \"get_company_info\":get_company_info}[tool_call[\"name\"].lower()]\n",
    "        tool_output = selected_tool.invoke(tool_call[\"args\"])\n",
    "    return tool_output"
   ]
  },
  {
   "cell_type": "code",
   "execution_count": 19,
   "metadata": {},
   "outputs": [
    {
     "data": {
      "text/plain": [
       "'{\"2024-04-02\": [{\"symbol\": \"GOTO.JK\", \"volume\": 2224757900, \"price\": 70}, {\"symbol\": \"DOOH.JK\", \"volume\": 675247000, \"price\": 57}, {\"symbol\": \"PNLF.JK\", \"volume\": 502243100, \"price\": 310}]}'"
      ]
     },
     "execution_count": 19,
     "metadata": {},
     "output_type": "execute_result"
    }
   ],
   "source": [
    "generate_output(simple_query)"
   ]
  },
  {
   "cell_type": "code",
   "execution_count": 20,
   "metadata": {},
   "outputs": [
    {
     "data": {
      "text/plain": [
       "'[{\"symbol\": \"BBRI.JK\", \"date\": \"2022-04-01\", \"close\": 4730, \"volume\": 145105000, \"market_cap\": null}, {\"symbol\": \"BBRI.JK\", \"date\": \"2022-04-04\", \"close\": 4700, \"volume\": 103902000, \"market_cap\": null}, {\"symbol\": \"BBRI.JK\", \"date\": \"2022-04-05\", \"close\": 4700, \"volume\": 76154300, \"market_cap\": null}, {\"symbol\": \"BBRI.JK\", \"date\": \"2022-04-06\", \"close\": 4600, \"volume\": 111009800, \"market_cap\": null}, {\"symbol\": \"BBRI.JK\", \"date\": \"2022-04-07\", \"close\": 4630, \"volume\": 91942500, \"market_cap\": null}, {\"symbol\": \"BBRI.JK\", \"date\": \"2022-04-08\", \"close\": 4610, \"volume\": 125657900, \"market_cap\": null}, {\"symbol\": \"BBRI.JK\", \"date\": \"2022-04-11\", \"close\": 4570, \"volume\": 109861100, \"market_cap\": null}, {\"symbol\": \"BBRI.JK\", \"date\": \"2022-04-12\", \"close\": 4610, \"volume\": 96961200, \"market_cap\": null}, {\"symbol\": \"BBRI.JK\", \"date\": \"2022-04-13\", \"close\": 4610, \"volume\": 112327600, \"market_cap\": null}, {\"symbol\": \"BBRI.JK\", \"date\": \"2022-04-14\", \"close\": 4540, \"volume\": 150659600, \"market_cap\": null}, {\"symbol\": \"BBRI.JK\", \"date\": \"2022-04-18\", \"close\": 4550, \"volume\": 82795100, \"market_cap\": null}, {\"symbol\": \"BBRI.JK\", \"date\": \"2022-04-19\", \"close\": 4570, \"volume\": 148475600, \"market_cap\": null}, {\"symbol\": \"BBRI.JK\", \"date\": \"2022-04-20\", \"close\": 4850, \"volume\": 404383100, \"market_cap\": null}, {\"symbol\": \"BBRI.JK\", \"date\": \"2022-04-21\", \"close\": 4800, \"volume\": 208253300, \"market_cap\": null}, {\"symbol\": \"BBRI.JK\", \"date\": \"2022-04-22\", \"close\": 4750, \"volume\": 174349500, \"market_cap\": null}, {\"symbol\": \"BBRI.JK\", \"date\": \"2022-04-25\", \"close\": 4840, \"volume\": 235752400, \"market_cap\": null}, {\"symbol\": \"BBRI.JK\", \"date\": \"2022-04-26\", \"close\": 4940, \"volume\": 262734300, \"market_cap\": null}, {\"symbol\": \"BBRI.JK\", \"date\": \"2022-04-27\", \"close\": 4850, \"volume\": 191955100, \"market_cap\": null}, {\"symbol\": \"BBRI.JK\", \"date\": \"2022-04-28\", \"close\": 4870, \"volume\": 193821200, \"market_cap\": 730711000000000}]'"
      ]
     },
     "execution_count": 20,
     "metadata": {},
     "output_type": "execute_result"
    }
   ],
   "source": [
    "generate_output(intermediate_query)"
   ]
  },
  {
   "cell_type": "code",
   "execution_count": 22,
   "metadata": {},
   "outputs": [
    {
     "data": {
      "text/plain": [
       "'{\"symbol\": \"BREN.JK\", \"company_name\": \"PT Barito Renewables Energy Tbk.\", \"overview\": {\"listing_board\": \"Main\", \"industry\": \"Electric Utilities\", \"sub_industry\": \"Electric Utilities\", \"sector\": \"Infrastructures\", \"sub_sector\": \"Utilities\", \"market_cap\": 1257588435976192, \"market_cap_rank\": 1, \"address\": \"Wisma Barito Pacific II, Lantai 23,\\\\nJl. Let. Jend. S. Parman Kav. 60, RT 010, RW 005, Slipi, Palmerah, Jakarta 11410,\\\\nIndonesia\", \"employee_num\": 634, \"listing_date\": \"2023-10-09\", \"website\": \"www.baritorenewables.co.id\", \"phone\": \"(021) 530 6711\", \"email\": \"corpsec@baritorenewables.co.id\", \"last_close_price\": 9400, \"latest_close_date\": \"2024-06-24\", \"daily_close_change\": 0.032967032967033}}'"
      ]
     },
     "execution_count": 22,
     "metadata": {},
     "output_type": "execute_result"
    }
   ],
   "source": [
    "generate_output(complex_query)"
   ]
  },
  {
   "cell_type": "code",
   "execution_count": null,
   "metadata": {},
   "outputs": [],
   "source": []
  }
 ],
 "metadata": {
  "kernelspec": {
   "display_name": "venv",
   "language": "python",
   "name": "python3"
  },
  "language_info": {
   "codemirror_mode": {
    "name": "ipython",
    "version": 3
   },
   "file_extension": ".py",
   "mimetype": "text/x-python",
   "name": "python",
   "nbconvert_exporter": "python",
   "pygments_lexer": "ipython3",
   "version": "3.9.13"
  }
 },
 "nbformat": 4,
 "nbformat_minor": 2
}
