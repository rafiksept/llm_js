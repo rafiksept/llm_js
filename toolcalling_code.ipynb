{
 "cells": [
  {
   "cell_type": "code",
   "execution_count": 1,
   "metadata": {},
   "outputs": [],
   "source": [
    "from datetime import datetime\n",
    "from langchain_core.prompts import ChatPromptTemplate\n",
    "from langchain_core.runnables import ConfigurableField\n",
    "from langchain_core.tools import tool\n",
    "from langchain.agents import create_tool_calling_agent, AgentExecutor\n",
    "import json\n",
    "from langchain_core.tools import ToolException\n",
    "\n",
    "from pydantic.v1 import BaseModel, Field\n",
    "\n",
    "\n",
    "import json\n",
    "from langchain_core.messages import HumanMessage, ToolMessage\n",
    "from langchain_core.tools import tool\n",
    "from langchain_groq import ChatGroq\n",
    "import requests\n",
    "import os\n",
    "from dotenv import load_dotenv\n",
    "load_dotenv()\n",
    "\n",
    "groq_api_key = os.getenv(\"GROQ_API_KEY\")\n",
    "sectors_api_key = os.getenv(\"SECTORS_API_KEY\")\n",
    "\n",
    "llm = ChatGroq(temperature=0, model_name=\"llama3-70b-8192\", groq_api_key = groq_api_key)"
   ]
  },
  {
   "cell_type": "markdown",
   "metadata": {},
   "source": [
    "# dulu"
   ]
  },
  {
   "cell_type": "code",
   "execution_count": 63,
   "metadata": {},
   "outputs": [
    {
     "name": "stdout",
     "output_type": "stream",
     "text": [
      "Question: Give me the top 3 companies based on transaction volume on 2 April 2024\n",
      "Answer: The top 3 companies based on transaction volume on 2 April 2024 are:\n",
      "\n",
      "1. GOTO.JK with a transaction volume of 2224757900\n",
      "2. DOOH.JK with a transaction volume of 675247000\n",
      "3. PNLF.JK with a transaction volume of 502243100 \n",
      "\n",
      "======================================================================================================================\n",
      "\n",
      "Question: Based on the closing prices of BBRI from April 1 to April 28, is the trend positive or negative? Give me the detailed reason\n",
      "Answer: Based on the closing prices of BBRI from April 1 to April 28, the trend is positive. \n",
      "\n",
      "The closing price started at 4730 on April 1 and ended at 4870 on April 28, which indicates an overall increase. Although there were some fluctuations in between, the overall trend is upward. \n",
      "\n",
      "======================================================================================================================\n",
      "\n",
      "Question: What were the market cap of BBCA and BREN? Which one was higher? For a stock with a higher market capitalization, could you also provide me with the email, phone number, and website, as I am interested in investing there?\n",
      "Answer: Based on the market capitalization, BREN has a higher market capitalization of 1505092503076864 compared to BBCA's 1161866902503424.\n",
      "\n",
      "Here is the information you requested for BREN:\n",
      "\n",
      "* Email: corpsec@baritorenewables.co.id\n",
      "* Phone: (021) 530 6711\n",
      "* Website: www.baritorenewables.co.id \n",
      "\n",
      "======================================================================================================================\n",
      "\n"
     ]
    }
   ],
   "source": [
    "from datetime import datetime\n",
    "from langchain_core.prompts import ChatPromptTemplate\n",
    "from langchain_core.runnables import ConfigurableField\n",
    "from langchain_core.tools import tool\n",
    "from langchain.agents import create_tool_calling_agent, AgentExecutor\n",
    "from langchain_groq import ChatGroq\n",
    "import json\n",
    "\n",
    "\n",
    "@tool\n",
    "def get_daily_transaction_data(stock: str, start_date:str, end_date:str ) -> str:\n",
    "    \"\"\"Get daily transaction data for stock, such as close price, volume, and market cap on certain date\"\"\"\n",
    "    stock = stock.lower()\n",
    "    url = f\"https://api.sectors.app/api/data/daily/{stock}/?start={start_date}&end={end_date}\"\n",
    "    api_key = sectors_api_key\n",
    "\n",
    "    headers = {\"Authorization\": api_key}\n",
    "    response = requests.get(url, headers = headers)\n",
    "\n",
    "    if response.status_code == 200:\n",
    "        data = response.json()\n",
    "        result = json.dumps(data)\n",
    "    else:\n",
    "        print(response.status_code)\n",
    "    return result\n",
    "\n",
    "@tool\n",
    "def get_top_companies_based_on_transaction_volume(start_date:str, end_date:str, top_n:str) -> str:\n",
    "    \"\"\"Get top companies based on transaction volume\"\"\"\n",
    "\n",
    "    url = f\"https://api.sectors.app/api/data/most-traded/?start={start_date}&end={end_date}&n_stocks={top_n}\"\n",
    "    api_key = sectors_api_key\n",
    "\n",
    "    headers = {\"Authorization\": api_key}\n",
    "    response = requests.get(url, headers = headers)\n",
    "\n",
    "    if response.status_code == 200:\n",
    "        data = response.json()\n",
    "        result = json.dumps(data)\n",
    "    else:\n",
    "        print(response.status_code)\n",
    "\n",
    "    return result\n",
    "\n",
    "@tool\n",
    "def get_company_info(stock:str) -> str:\n",
    "  \"\"\" Get company info, such as company name, listing board, industry, sub industry, sector, sub sector, market cap, market cap rank, address, employee num, listing date, website, phone, email, last close price, latest close date, daily close change\"\"\"\n",
    "  stock = stock.lower()\n",
    "  url = f\"https://api.sectors.app/api/data/company/report/{stock}/?sections=overview\"\n",
    "  api_key = sectors_api_key\n",
    "\n",
    "  headers = {\"Authorization\": api_key}\n",
    "  response = requests.get(url, headers = headers)\n",
    "\n",
    "  if response.status_code == 200:\n",
    "    data = response.json()\n",
    "    result = json.dumps(data)\n",
    "  else:\n",
    "    print(response.status_code)\n",
    "\n",
    "  return result\n",
    "\n",
    "\n",
    "# SIMPLE QUERY\n",
    "simple_query = \"Give me the top 3 companies based on transaction volume on 2 April 2024\"\n",
    "\n",
    "# INTERMEDIATE QUERY\n",
    "intermediate_query = \"Based on the closing prices of BBRI from April 1 to April 28, is the trend positive or negative? Give me the detailed reason\"\n",
    "\n",
    "# COMPLEX QUERY\n",
    "complex_query = \"What were the market cap of BBCA and BREN? Which one was higher? For a stock with a higher market capitalization, could you also provide me with the email, phone number, and website, as I am interested in investing there?\"\n",
    "\n",
    "queries = [simple_query, intermediate_query, complex_query]\n",
    "\n",
    "\n",
    "prompt = ChatPromptTemplate.from_messages([\n",
    "    (\"system\", \"you're a helpful assistant\"),\n",
    "    (\"human\", \"{input}\"),\n",
    "    (\"placeholder\", \"{agent_scratchpad}\"),\n",
    "])\n",
    "\n",
    "tools = [get_daily_transaction_data, get_top_companies_based_on_transaction_volume, get_company_info]\n",
    "\n",
    "llm = ChatGroq(temperature=0, model_name=\"llama3-70b-8192\", groq_api_key = groq_api_key)\n",
    "\n",
    "agent = create_tool_calling_agent(llm, tools, prompt)\n",
    "agent_executor = AgentExecutor(agent=agent, tools=tools, verbose=True)\n",
    "agent_executor = AgentExecutor(agent=agent, tools=tools)\n",
    "\n",
    "for query in queries:\n",
    "  print(\"Question:\", query)\n",
    "  result = agent_executor.invoke({\"input\": query})\n",
    "  print(\"Answer:\",result['output'], \"\\n\\n======================================================================================================================\\n\")"
   ]
  },
  {
   "cell_type": "markdown",
   "metadata": {},
   "source": [
    "# Using tool decorator"
   ]
  },
  {
   "cell_type": "code",
   "execution_count": 76,
   "metadata": {},
   "outputs": [
    {
     "name": "stdout",
     "output_type": "stream",
     "text": [
      "Question: Based on the closing prices of BBRI from April 1 to April 28, is the trend positive or negative? Give me the detailed reason\n",
      "Answer: Based on the closing prices of BBRI from April 1 to April 28, the trend is generally positive. \n",
      "\n",
      "Here's a detailed reason: \n",
      "\n",
      "The closing prices started at 4730 on April 1 and ended at 4870 on April 28, which indicates an overall increase of 140 points or approximately 2.96% over the period. \n",
      "\n",
      "Although there were some fluctuations in between, with the price dropping to as low as 4540 on April 14, the overall trend is upward. The price recovered and even reached a high of 4940 on April 26, before closing at 4870 on April 28.\n"
     ]
    }
   ],
   "source": [
    "@tool()\n",
    "def get_daily_transaction_data(stock: str, start_date:str, end_date:str ) -> str:\n",
    "    \"\"\"Get daily transaction data for stock, such as close price, volume, and market cap on certain date\"\"\"\n",
    "    url = f\"https://api.sectors.app/v1/daily/{stock}/?start={start_date}&end={end_date}\"\n",
    "    api_key = sectors_api_key\n",
    "\n",
    "    headers = {\"Authorization\": api_key}\n",
    "    response = requests.get(url, headers = headers)\n",
    "\n",
    "    if response.status_code == 200:\n",
    "        data = response.json()\n",
    "        result = json.dumps(data)\n",
    "    else:\n",
    "        raise ValueError(f\"No data for {stock}\")\n",
    "    return result\n",
    "\n",
    "\n",
    "prompt = ChatPromptTemplate.from_messages([\n",
    "    (\"system\", \"you're a helpful assistant\"),\n",
    "    (\"human\", \"{input}\"),\n",
    "    (\"placeholder\", \"{agent_scratchpad}\"),\n",
    "])\n",
    "\n",
    "tools = [get_daily_transaction_data]\n",
    "agent = create_tool_calling_agent(llm, tools, prompt)\n",
    "agent_executor = AgentExecutor(agent=agent, tools=tools)\n",
    "\n",
    "query = \"Based on the closing prices of BBRI from April 1 to April 28, is the trend positive or negative? Give me the detailed reason\"\n",
    "print(\"Question:\", query)\n",
    "result = agent_executor.invoke({\"input\": query})\n",
    "print(\"Answer:\",result['output'])"
   ]
  },
  {
   "cell_type": "markdown",
   "metadata": {},
   "source": [
    "It's working perfectly, but how if we input an invalid ticker format?"
   ]
  },
  {
   "cell_type": "code",
   "execution_count": 77,
   "metadata": {},
   "outputs": [
    {
     "name": "stdout",
     "output_type": "stream",
     "text": [
      "Question: Based on the closing prices of BBRII from April 1 to April 28, is the trend positive or negative? Give me the detailed reason\n"
     ]
    },
    {
     "ename": "ValueError",
     "evalue": "No data for BBRII",
     "output_type": "error",
     "traceback": [
      "\u001b[1;31m---------------------------------------------------------------------------\u001b[0m",
      "\u001b[1;31mValueError\u001b[0m                                Traceback (most recent call last)",
      "Cell \u001b[1;32mIn[77], line 3\u001b[0m\n\u001b[0;32m      1\u001b[0m query \u001b[38;5;241m=\u001b[39m \u001b[38;5;124m\"\u001b[39m\u001b[38;5;124mBased on the closing prices of BBRII from April 1 to April 28, is the trend positive or negative? Give me the detailed reason\u001b[39m\u001b[38;5;124m\"\u001b[39m\n\u001b[0;32m      2\u001b[0m \u001b[38;5;28mprint\u001b[39m(\u001b[38;5;124m\"\u001b[39m\u001b[38;5;124mQuestion:\u001b[39m\u001b[38;5;124m\"\u001b[39m, query)\n\u001b[1;32m----> 3\u001b[0m result \u001b[38;5;241m=\u001b[39m \u001b[43magent_executor\u001b[49m\u001b[38;5;241;43m.\u001b[39;49m\u001b[43minvoke\u001b[49m\u001b[43m(\u001b[49m\u001b[43m{\u001b[49m\u001b[38;5;124;43m\"\u001b[39;49m\u001b[38;5;124;43minput\u001b[39;49m\u001b[38;5;124;43m\"\u001b[39;49m\u001b[43m:\u001b[49m\u001b[43m \u001b[49m\u001b[43mquery\u001b[49m\u001b[43m}\u001b[49m\u001b[43m)\u001b[49m\n\u001b[0;32m      4\u001b[0m \u001b[38;5;28mprint\u001b[39m(\u001b[38;5;124m\"\u001b[39m\u001b[38;5;124mAnswer:\u001b[39m\u001b[38;5;124m\"\u001b[39m,result[\u001b[38;5;124m'\u001b[39m\u001b[38;5;124moutput\u001b[39m\u001b[38;5;124m'\u001b[39m])\n",
      "File \u001b[1;32mc:\\Users\\Geraldus Wilsen\\Documents\\Portfolio\\stock_agent\\venv\\lib\\site-packages\\langchain\\chains\\base.py:166\u001b[0m, in \u001b[0;36mChain.invoke\u001b[1;34m(self, input, config, **kwargs)\u001b[0m\n\u001b[0;32m    164\u001b[0m \u001b[38;5;28;01mexcept\u001b[39;00m \u001b[38;5;167;01mBaseException\u001b[39;00m \u001b[38;5;28;01mas\u001b[39;00m e:\n\u001b[0;32m    165\u001b[0m     run_manager\u001b[38;5;241m.\u001b[39mon_chain_error(e)\n\u001b[1;32m--> 166\u001b[0m     \u001b[38;5;28;01mraise\u001b[39;00m e\n\u001b[0;32m    167\u001b[0m run_manager\u001b[38;5;241m.\u001b[39mon_chain_end(outputs)\n\u001b[0;32m    169\u001b[0m \u001b[38;5;28;01mif\u001b[39;00m include_run_info:\n",
      "File \u001b[1;32mc:\\Users\\Geraldus Wilsen\\Documents\\Portfolio\\stock_agent\\venv\\lib\\site-packages\\langchain\\chains\\base.py:156\u001b[0m, in \u001b[0;36mChain.invoke\u001b[1;34m(self, input, config, **kwargs)\u001b[0m\n\u001b[0;32m    153\u001b[0m \u001b[38;5;28;01mtry\u001b[39;00m:\n\u001b[0;32m    154\u001b[0m     \u001b[38;5;28mself\u001b[39m\u001b[38;5;241m.\u001b[39m_validate_inputs(inputs)\n\u001b[0;32m    155\u001b[0m     outputs \u001b[38;5;241m=\u001b[39m (\n\u001b[1;32m--> 156\u001b[0m         \u001b[38;5;28;43mself\u001b[39;49m\u001b[38;5;241;43m.\u001b[39;49m\u001b[43m_call\u001b[49m\u001b[43m(\u001b[49m\u001b[43minputs\u001b[49m\u001b[43m,\u001b[49m\u001b[43m \u001b[49m\u001b[43mrun_manager\u001b[49m\u001b[38;5;241;43m=\u001b[39;49m\u001b[43mrun_manager\u001b[49m\u001b[43m)\u001b[49m\n\u001b[0;32m    157\u001b[0m         \u001b[38;5;28;01mif\u001b[39;00m new_arg_supported\n\u001b[0;32m    158\u001b[0m         \u001b[38;5;28;01melse\u001b[39;00m \u001b[38;5;28mself\u001b[39m\u001b[38;5;241m.\u001b[39m_call(inputs)\n\u001b[0;32m    159\u001b[0m     )\n\u001b[0;32m    161\u001b[0m     final_outputs: Dict[\u001b[38;5;28mstr\u001b[39m, Any] \u001b[38;5;241m=\u001b[39m \u001b[38;5;28mself\u001b[39m\u001b[38;5;241m.\u001b[39mprep_outputs(\n\u001b[0;32m    162\u001b[0m         inputs, outputs, return_only_outputs\n\u001b[0;32m    163\u001b[0m     )\n\u001b[0;32m    164\u001b[0m \u001b[38;5;28;01mexcept\u001b[39;00m \u001b[38;5;167;01mBaseException\u001b[39;00m \u001b[38;5;28;01mas\u001b[39;00m e:\n",
      "File \u001b[1;32mc:\\Users\\Geraldus Wilsen\\Documents\\Portfolio\\stock_agent\\venv\\lib\\site-packages\\langchain\\agents\\agent.py:1433\u001b[0m, in \u001b[0;36mAgentExecutor._call\u001b[1;34m(self, inputs, run_manager)\u001b[0m\n\u001b[0;32m   1431\u001b[0m \u001b[38;5;66;03m# We now enter the agent loop (until it returns something).\u001b[39;00m\n\u001b[0;32m   1432\u001b[0m \u001b[38;5;28;01mwhile\u001b[39;00m \u001b[38;5;28mself\u001b[39m\u001b[38;5;241m.\u001b[39m_should_continue(iterations, time_elapsed):\n\u001b[1;32m-> 1433\u001b[0m     next_step_output \u001b[38;5;241m=\u001b[39m \u001b[38;5;28;43mself\u001b[39;49m\u001b[38;5;241;43m.\u001b[39;49m\u001b[43m_take_next_step\u001b[49m\u001b[43m(\u001b[49m\n\u001b[0;32m   1434\u001b[0m \u001b[43m        \u001b[49m\u001b[43mname_to_tool_map\u001b[49m\u001b[43m,\u001b[49m\n\u001b[0;32m   1435\u001b[0m \u001b[43m        \u001b[49m\u001b[43mcolor_mapping\u001b[49m\u001b[43m,\u001b[49m\n\u001b[0;32m   1436\u001b[0m \u001b[43m        \u001b[49m\u001b[43minputs\u001b[49m\u001b[43m,\u001b[49m\n\u001b[0;32m   1437\u001b[0m \u001b[43m        \u001b[49m\u001b[43mintermediate_steps\u001b[49m\u001b[43m,\u001b[49m\n\u001b[0;32m   1438\u001b[0m \u001b[43m        \u001b[49m\u001b[43mrun_manager\u001b[49m\u001b[38;5;241;43m=\u001b[39;49m\u001b[43mrun_manager\u001b[49m\u001b[43m,\u001b[49m\n\u001b[0;32m   1439\u001b[0m \u001b[43m    \u001b[49m\u001b[43m)\u001b[49m\n\u001b[0;32m   1440\u001b[0m     \u001b[38;5;28;01mif\u001b[39;00m \u001b[38;5;28misinstance\u001b[39m(next_step_output, AgentFinish):\n\u001b[0;32m   1441\u001b[0m         \u001b[38;5;28;01mreturn\u001b[39;00m \u001b[38;5;28mself\u001b[39m\u001b[38;5;241m.\u001b[39m_return(\n\u001b[0;32m   1442\u001b[0m             next_step_output, intermediate_steps, run_manager\u001b[38;5;241m=\u001b[39mrun_manager\n\u001b[0;32m   1443\u001b[0m         )\n",
      "File \u001b[1;32mc:\\Users\\Geraldus Wilsen\\Documents\\Portfolio\\stock_agent\\venv\\lib\\site-packages\\langchain\\agents\\agent.py:1139\u001b[0m, in \u001b[0;36mAgentExecutor._take_next_step\u001b[1;34m(self, name_to_tool_map, color_mapping, inputs, intermediate_steps, run_manager)\u001b[0m\n\u001b[0;32m   1130\u001b[0m \u001b[38;5;28;01mdef\u001b[39;00m \u001b[38;5;21m_take_next_step\u001b[39m(\n\u001b[0;32m   1131\u001b[0m     \u001b[38;5;28mself\u001b[39m,\n\u001b[0;32m   1132\u001b[0m     name_to_tool_map: Dict[\u001b[38;5;28mstr\u001b[39m, BaseTool],\n\u001b[1;32m   (...)\u001b[0m\n\u001b[0;32m   1136\u001b[0m     run_manager: Optional[CallbackManagerForChainRun] \u001b[38;5;241m=\u001b[39m \u001b[38;5;28;01mNone\u001b[39;00m,\n\u001b[0;32m   1137\u001b[0m ) \u001b[38;5;241m-\u001b[39m\u001b[38;5;241m>\u001b[39m Union[AgentFinish, List[Tuple[AgentAction, \u001b[38;5;28mstr\u001b[39m]]]:\n\u001b[0;32m   1138\u001b[0m     \u001b[38;5;28;01mreturn\u001b[39;00m \u001b[38;5;28mself\u001b[39m\u001b[38;5;241m.\u001b[39m_consume_next_step(\n\u001b[1;32m-> 1139\u001b[0m         [\n\u001b[0;32m   1140\u001b[0m             a\n\u001b[0;32m   1141\u001b[0m             \u001b[38;5;28;01mfor\u001b[39;00m a \u001b[38;5;129;01min\u001b[39;00m \u001b[38;5;28mself\u001b[39m\u001b[38;5;241m.\u001b[39m_iter_next_step(\n\u001b[0;32m   1142\u001b[0m                 name_to_tool_map,\n\u001b[0;32m   1143\u001b[0m                 color_mapping,\n\u001b[0;32m   1144\u001b[0m                 inputs,\n\u001b[0;32m   1145\u001b[0m                 intermediate_steps,\n\u001b[0;32m   1146\u001b[0m                 run_manager,\n\u001b[0;32m   1147\u001b[0m             )\n\u001b[0;32m   1148\u001b[0m         ]\n\u001b[0;32m   1149\u001b[0m     )\n",
      "File \u001b[1;32mc:\\Users\\Geraldus Wilsen\\Documents\\Portfolio\\stock_agent\\venv\\lib\\site-packages\\langchain\\agents\\agent.py:1139\u001b[0m, in \u001b[0;36m<listcomp>\u001b[1;34m(.0)\u001b[0m\n\u001b[0;32m   1130\u001b[0m \u001b[38;5;28;01mdef\u001b[39;00m \u001b[38;5;21m_take_next_step\u001b[39m(\n\u001b[0;32m   1131\u001b[0m     \u001b[38;5;28mself\u001b[39m,\n\u001b[0;32m   1132\u001b[0m     name_to_tool_map: Dict[\u001b[38;5;28mstr\u001b[39m, BaseTool],\n\u001b[1;32m   (...)\u001b[0m\n\u001b[0;32m   1136\u001b[0m     run_manager: Optional[CallbackManagerForChainRun] \u001b[38;5;241m=\u001b[39m \u001b[38;5;28;01mNone\u001b[39;00m,\n\u001b[0;32m   1137\u001b[0m ) \u001b[38;5;241m-\u001b[39m\u001b[38;5;241m>\u001b[39m Union[AgentFinish, List[Tuple[AgentAction, \u001b[38;5;28mstr\u001b[39m]]]:\n\u001b[0;32m   1138\u001b[0m     \u001b[38;5;28;01mreturn\u001b[39;00m \u001b[38;5;28mself\u001b[39m\u001b[38;5;241m.\u001b[39m_consume_next_step(\n\u001b[1;32m-> 1139\u001b[0m         [\n\u001b[0;32m   1140\u001b[0m             a\n\u001b[0;32m   1141\u001b[0m             \u001b[38;5;28;01mfor\u001b[39;00m a \u001b[38;5;129;01min\u001b[39;00m \u001b[38;5;28mself\u001b[39m\u001b[38;5;241m.\u001b[39m_iter_next_step(\n\u001b[0;32m   1142\u001b[0m                 name_to_tool_map,\n\u001b[0;32m   1143\u001b[0m                 color_mapping,\n\u001b[0;32m   1144\u001b[0m                 inputs,\n\u001b[0;32m   1145\u001b[0m                 intermediate_steps,\n\u001b[0;32m   1146\u001b[0m                 run_manager,\n\u001b[0;32m   1147\u001b[0m             )\n\u001b[0;32m   1148\u001b[0m         ]\n\u001b[0;32m   1149\u001b[0m     )\n",
      "File \u001b[1;32mc:\\Users\\Geraldus Wilsen\\Documents\\Portfolio\\stock_agent\\venv\\lib\\site-packages\\langchain\\agents\\agent.py:1224\u001b[0m, in \u001b[0;36mAgentExecutor._iter_next_step\u001b[1;34m(self, name_to_tool_map, color_mapping, inputs, intermediate_steps, run_manager)\u001b[0m\n\u001b[0;32m   1222\u001b[0m     \u001b[38;5;28;01myield\u001b[39;00m agent_action\n\u001b[0;32m   1223\u001b[0m \u001b[38;5;28;01mfor\u001b[39;00m agent_action \u001b[38;5;129;01min\u001b[39;00m actions:\n\u001b[1;32m-> 1224\u001b[0m     \u001b[38;5;28;01myield\u001b[39;00m \u001b[38;5;28;43mself\u001b[39;49m\u001b[38;5;241;43m.\u001b[39;49m\u001b[43m_perform_agent_action\u001b[49m\u001b[43m(\u001b[49m\n\u001b[0;32m   1225\u001b[0m \u001b[43m        \u001b[49m\u001b[43mname_to_tool_map\u001b[49m\u001b[43m,\u001b[49m\u001b[43m \u001b[49m\u001b[43mcolor_mapping\u001b[49m\u001b[43m,\u001b[49m\u001b[43m \u001b[49m\u001b[43magent_action\u001b[49m\u001b[43m,\u001b[49m\u001b[43m \u001b[49m\u001b[43mrun_manager\u001b[49m\n\u001b[0;32m   1226\u001b[0m \u001b[43m    \u001b[49m\u001b[43m)\u001b[49m\n",
      "File \u001b[1;32mc:\\Users\\Geraldus Wilsen\\Documents\\Portfolio\\stock_agent\\venv\\lib\\site-packages\\langchain\\agents\\agent.py:1246\u001b[0m, in \u001b[0;36mAgentExecutor._perform_agent_action\u001b[1;34m(self, name_to_tool_map, color_mapping, agent_action, run_manager)\u001b[0m\n\u001b[0;32m   1244\u001b[0m         tool_run_kwargs[\u001b[38;5;124m\"\u001b[39m\u001b[38;5;124mllm_prefix\u001b[39m\u001b[38;5;124m\"\u001b[39m] \u001b[38;5;241m=\u001b[39m \u001b[38;5;124m\"\u001b[39m\u001b[38;5;124m\"\u001b[39m\n\u001b[0;32m   1245\u001b[0m     \u001b[38;5;66;03m# We then call the tool on the tool input to get an observation\u001b[39;00m\n\u001b[1;32m-> 1246\u001b[0m     observation \u001b[38;5;241m=\u001b[39m tool\u001b[38;5;241m.\u001b[39mrun(\n\u001b[0;32m   1247\u001b[0m         agent_action\u001b[38;5;241m.\u001b[39mtool_input,\n\u001b[0;32m   1248\u001b[0m         verbose\u001b[38;5;241m=\u001b[39m\u001b[38;5;28mself\u001b[39m\u001b[38;5;241m.\u001b[39mverbose,\n\u001b[0;32m   1249\u001b[0m         color\u001b[38;5;241m=\u001b[39mcolor,\n\u001b[0;32m   1250\u001b[0m         callbacks\u001b[38;5;241m=\u001b[39mrun_manager\u001b[38;5;241m.\u001b[39mget_child() \u001b[38;5;28;01mif\u001b[39;00m run_manager \u001b[38;5;28;01melse\u001b[39;00m \u001b[38;5;28;01mNone\u001b[39;00m,\n\u001b[0;32m   1251\u001b[0m         \u001b[38;5;241m*\u001b[39m\u001b[38;5;241m*\u001b[39mtool_run_kwargs,\n\u001b[0;32m   1252\u001b[0m     )\n\u001b[0;32m   1253\u001b[0m \u001b[38;5;28;01melse\u001b[39;00m:\n\u001b[0;32m   1254\u001b[0m     tool_run_kwargs \u001b[38;5;241m=\u001b[39m \u001b[38;5;28mself\u001b[39m\u001b[38;5;241m.\u001b[39magent\u001b[38;5;241m.\u001b[39mtool_run_logging_kwargs()\n",
      "File \u001b[1;32mc:\\Users\\Geraldus Wilsen\\Documents\\Portfolio\\stock_agent\\venv\\lib\\site-packages\\langchain_core\\tools.py:452\u001b[0m, in \u001b[0;36mBaseTool.run\u001b[1;34m(self, tool_input, verbose, start_color, color, callbacks, tags, metadata, run_name, run_id, config, **kwargs)\u001b[0m\n\u001b[0;32m    450\u001b[0m \u001b[38;5;28;01mexcept\u001b[39;00m (\u001b[38;5;167;01mException\u001b[39;00m, \u001b[38;5;167;01mKeyboardInterrupt\u001b[39;00m) \u001b[38;5;28;01mas\u001b[39;00m e:\n\u001b[0;32m    451\u001b[0m     run_manager\u001b[38;5;241m.\u001b[39mon_tool_error(e)\n\u001b[1;32m--> 452\u001b[0m     \u001b[38;5;28;01mraise\u001b[39;00m e\n\u001b[0;32m    453\u001b[0m \u001b[38;5;28;01melse\u001b[39;00m:\n\u001b[0;32m    454\u001b[0m     run_manager\u001b[38;5;241m.\u001b[39mon_tool_end(observation, color\u001b[38;5;241m=\u001b[39mcolor, name\u001b[38;5;241m=\u001b[39m\u001b[38;5;28mself\u001b[39m\u001b[38;5;241m.\u001b[39mname, \u001b[38;5;241m*\u001b[39m\u001b[38;5;241m*\u001b[39mkwargs)\n",
      "File \u001b[1;32mc:\\Users\\Geraldus Wilsen\\Documents\\Portfolio\\stock_agent\\venv\\lib\\site-packages\\langchain_core\\tools.py:409\u001b[0m, in \u001b[0;36mBaseTool.run\u001b[1;34m(self, tool_input, verbose, start_color, color, callbacks, tags, metadata, run_name, run_id, config, **kwargs)\u001b[0m\n\u001b[0;32m    406\u001b[0m     parsed_input \u001b[38;5;241m=\u001b[39m \u001b[38;5;28mself\u001b[39m\u001b[38;5;241m.\u001b[39m_parse_input(tool_input)\n\u001b[0;32m    407\u001b[0m     tool_args, tool_kwargs \u001b[38;5;241m=\u001b[39m \u001b[38;5;28mself\u001b[39m\u001b[38;5;241m.\u001b[39m_to_args_and_kwargs(parsed_input)\n\u001b[0;32m    408\u001b[0m     observation \u001b[38;5;241m=\u001b[39m (\n\u001b[1;32m--> 409\u001b[0m         context\u001b[38;5;241m.\u001b[39mrun(\n\u001b[0;32m    410\u001b[0m             \u001b[38;5;28mself\u001b[39m\u001b[38;5;241m.\u001b[39m_run, \u001b[38;5;241m*\u001b[39mtool_args, run_manager\u001b[38;5;241m=\u001b[39mrun_manager, \u001b[38;5;241m*\u001b[39m\u001b[38;5;241m*\u001b[39mtool_kwargs\n\u001b[0;32m    411\u001b[0m         )\n\u001b[0;32m    412\u001b[0m         \u001b[38;5;28;01mif\u001b[39;00m new_arg_supported\n\u001b[0;32m    413\u001b[0m         \u001b[38;5;28;01melse\u001b[39;00m context\u001b[38;5;241m.\u001b[39mrun(\u001b[38;5;28mself\u001b[39m\u001b[38;5;241m.\u001b[39m_run, \u001b[38;5;241m*\u001b[39mtool_args, \u001b[38;5;241m*\u001b[39m\u001b[38;5;241m*\u001b[39mtool_kwargs)\n\u001b[0;32m    414\u001b[0m     )\n\u001b[0;32m    415\u001b[0m \u001b[38;5;28;01mexcept\u001b[39;00m ValidationError \u001b[38;5;28;01mas\u001b[39;00m e:\n\u001b[0;32m    416\u001b[0m     \u001b[38;5;28;01mif\u001b[39;00m \u001b[38;5;129;01mnot\u001b[39;00m \u001b[38;5;28mself\u001b[39m\u001b[38;5;241m.\u001b[39mhandle_validation_error:\n",
      "File \u001b[1;32mc:\\Users\\Geraldus Wilsen\\Documents\\Portfolio\\stock_agent\\venv\\lib\\site-packages\\langchain_core\\tools.py:750\u001b[0m, in \u001b[0;36mStructuredTool._run\u001b[1;34m(self, run_manager, *args, **kwargs)\u001b[0m\n\u001b[0;32m    741\u001b[0m \u001b[38;5;28;01mif\u001b[39;00m \u001b[38;5;28mself\u001b[39m\u001b[38;5;241m.\u001b[39mfunc:\n\u001b[0;32m    742\u001b[0m     new_argument_supported \u001b[38;5;241m=\u001b[39m signature(\u001b[38;5;28mself\u001b[39m\u001b[38;5;241m.\u001b[39mfunc)\u001b[38;5;241m.\u001b[39mparameters\u001b[38;5;241m.\u001b[39mget(\u001b[38;5;124m\"\u001b[39m\u001b[38;5;124mcallbacks\u001b[39m\u001b[38;5;124m\"\u001b[39m)\n\u001b[0;32m    743\u001b[0m     \u001b[38;5;28;01mreturn\u001b[39;00m (\n\u001b[0;32m    744\u001b[0m         \u001b[38;5;28mself\u001b[39m\u001b[38;5;241m.\u001b[39mfunc(\n\u001b[0;32m    745\u001b[0m             \u001b[38;5;241m*\u001b[39margs,\n\u001b[0;32m    746\u001b[0m             callbacks\u001b[38;5;241m=\u001b[39mrun_manager\u001b[38;5;241m.\u001b[39mget_child() \u001b[38;5;28;01mif\u001b[39;00m run_manager \u001b[38;5;28;01melse\u001b[39;00m \u001b[38;5;28;01mNone\u001b[39;00m,\n\u001b[0;32m    747\u001b[0m             \u001b[38;5;241m*\u001b[39m\u001b[38;5;241m*\u001b[39mkwargs,\n\u001b[0;32m    748\u001b[0m         )\n\u001b[0;32m    749\u001b[0m         \u001b[38;5;28;01mif\u001b[39;00m new_argument_supported\n\u001b[1;32m--> 750\u001b[0m         \u001b[38;5;28;01melse\u001b[39;00m \u001b[38;5;28mself\u001b[39m\u001b[38;5;241m.\u001b[39mfunc(\u001b[38;5;241m*\u001b[39margs, \u001b[38;5;241m*\u001b[39m\u001b[38;5;241m*\u001b[39mkwargs)\n\u001b[0;32m    751\u001b[0m     )\n\u001b[0;32m    752\u001b[0m \u001b[38;5;28;01mraise\u001b[39;00m \u001b[38;5;167;01mNotImplementedError\u001b[39;00m(\u001b[38;5;124m\"\u001b[39m\u001b[38;5;124mTool does not support sync\u001b[39m\u001b[38;5;124m\"\u001b[39m)\n",
      "Cell \u001b[1;32mIn[76], line 14\u001b[0m, in \u001b[0;36mget_daily_transaction_data\u001b[1;34m(stock, start_date, end_date)\u001b[0m\n\u001b[0;32m     12\u001b[0m     result \u001b[38;5;241m=\u001b[39m json\u001b[38;5;241m.\u001b[39mdumps(data)\n\u001b[0;32m     13\u001b[0m \u001b[38;5;28;01melse\u001b[39;00m:\n\u001b[1;32m---> 14\u001b[0m     \u001b[38;5;28;01mraise\u001b[39;00m \u001b[38;5;167;01mValueError\u001b[39;00m(\u001b[38;5;124mf\u001b[39m\u001b[38;5;124m\"\u001b[39m\u001b[38;5;124mNo data for \u001b[39m\u001b[38;5;132;01m{\u001b[39;00mstock\u001b[38;5;132;01m}\u001b[39;00m\u001b[38;5;124m\"\u001b[39m)\n\u001b[0;32m     15\u001b[0m \u001b[38;5;28;01mreturn\u001b[39;00m result\n",
      "\u001b[1;31mValueError\u001b[0m: No data for BBRII"
     ]
    }
   ],
   "source": [
    "query = \"Based on the closing prices of BBRII from April 1 to April 28, is the trend positive or negative? Give me the detailed reason\"\n",
    "print(\"Question:\", query)\n",
    "result = agent_executor.invoke({\"input\": query})\n",
    "print(\"Answer:\",result['output'])"
   ]
  },
  {
   "cell_type": "markdown",
   "metadata": {},
   "source": [
    "It returns an error, since BBRII is not a valid ticker format. However, if we show this kind of error to user, it won't be a great options, and that's why we need Pydantic"
   ]
  },
  {
   "cell_type": "code",
   "execution_count": 80,
   "metadata": {},
   "outputs": [
    {
     "name": "stdout",
     "output_type": "stream",
     "text": [
      "Question: Based on the closing prices of BBRII from April 1 to April 28, is the trend positive or negative? Give me the detailed reason\n"
     ]
    },
    {
     "ename": "ValidationError",
     "evalue": "1 validation error for SearchInput\nstock\n  Stock ticker should only contain up to 4 alphabetic characters (type=value_error)",
     "output_type": "error",
     "traceback": [
      "\u001b[1;31m---------------------------------------------------------------------------\u001b[0m",
      "\u001b[1;31mValidationError\u001b[0m                           Traceback (most recent call last)",
      "Cell \u001b[1;32mIn[80], line 53\u001b[0m\n\u001b[0;32m     51\u001b[0m query \u001b[38;5;241m=\u001b[39m \u001b[38;5;124m\"\u001b[39m\u001b[38;5;124mBased on the closing prices of BBRII from April 1 to April 28, is the trend positive or negative? Give me the detailed reason\u001b[39m\u001b[38;5;124m\"\u001b[39m\n\u001b[0;32m     52\u001b[0m \u001b[38;5;28mprint\u001b[39m(\u001b[38;5;124m\"\u001b[39m\u001b[38;5;124mQuestion:\u001b[39m\u001b[38;5;124m\"\u001b[39m, query)\n\u001b[1;32m---> 53\u001b[0m result \u001b[38;5;241m=\u001b[39m \u001b[43magent_executor\u001b[49m\u001b[38;5;241;43m.\u001b[39;49m\u001b[43minvoke\u001b[49m\u001b[43m(\u001b[49m\u001b[43m{\u001b[49m\u001b[38;5;124;43m\"\u001b[39;49m\u001b[38;5;124;43minput\u001b[39;49m\u001b[38;5;124;43m\"\u001b[39;49m\u001b[43m:\u001b[49m\u001b[43m \u001b[49m\u001b[43mquery\u001b[49m\u001b[43m}\u001b[49m\u001b[43m)\u001b[49m\n\u001b[0;32m     54\u001b[0m \u001b[38;5;28mprint\u001b[39m(\u001b[38;5;124m\"\u001b[39m\u001b[38;5;124mAnswer:\u001b[39m\u001b[38;5;124m\"\u001b[39m,result[\u001b[38;5;124m'\u001b[39m\u001b[38;5;124moutput\u001b[39m\u001b[38;5;124m'\u001b[39m])\n",
      "File \u001b[1;32mc:\\Users\\Geraldus Wilsen\\Documents\\Portfolio\\stock_agent\\venv\\lib\\site-packages\\langchain\\chains\\base.py:166\u001b[0m, in \u001b[0;36mChain.invoke\u001b[1;34m(self, input, config, **kwargs)\u001b[0m\n\u001b[0;32m    164\u001b[0m \u001b[38;5;28;01mexcept\u001b[39;00m \u001b[38;5;167;01mBaseException\u001b[39;00m \u001b[38;5;28;01mas\u001b[39;00m e:\n\u001b[0;32m    165\u001b[0m     run_manager\u001b[38;5;241m.\u001b[39mon_chain_error(e)\n\u001b[1;32m--> 166\u001b[0m     \u001b[38;5;28;01mraise\u001b[39;00m e\n\u001b[0;32m    167\u001b[0m run_manager\u001b[38;5;241m.\u001b[39mon_chain_end(outputs)\n\u001b[0;32m    169\u001b[0m \u001b[38;5;28;01mif\u001b[39;00m include_run_info:\n",
      "File \u001b[1;32mc:\\Users\\Geraldus Wilsen\\Documents\\Portfolio\\stock_agent\\venv\\lib\\site-packages\\langchain\\chains\\base.py:156\u001b[0m, in \u001b[0;36mChain.invoke\u001b[1;34m(self, input, config, **kwargs)\u001b[0m\n\u001b[0;32m    153\u001b[0m \u001b[38;5;28;01mtry\u001b[39;00m:\n\u001b[0;32m    154\u001b[0m     \u001b[38;5;28mself\u001b[39m\u001b[38;5;241m.\u001b[39m_validate_inputs(inputs)\n\u001b[0;32m    155\u001b[0m     outputs \u001b[38;5;241m=\u001b[39m (\n\u001b[1;32m--> 156\u001b[0m         \u001b[38;5;28;43mself\u001b[39;49m\u001b[38;5;241;43m.\u001b[39;49m\u001b[43m_call\u001b[49m\u001b[43m(\u001b[49m\u001b[43minputs\u001b[49m\u001b[43m,\u001b[49m\u001b[43m \u001b[49m\u001b[43mrun_manager\u001b[49m\u001b[38;5;241;43m=\u001b[39;49m\u001b[43mrun_manager\u001b[49m\u001b[43m)\u001b[49m\n\u001b[0;32m    157\u001b[0m         \u001b[38;5;28;01mif\u001b[39;00m new_arg_supported\n\u001b[0;32m    158\u001b[0m         \u001b[38;5;28;01melse\u001b[39;00m \u001b[38;5;28mself\u001b[39m\u001b[38;5;241m.\u001b[39m_call(inputs)\n\u001b[0;32m    159\u001b[0m     )\n\u001b[0;32m    161\u001b[0m     final_outputs: Dict[\u001b[38;5;28mstr\u001b[39m, Any] \u001b[38;5;241m=\u001b[39m \u001b[38;5;28mself\u001b[39m\u001b[38;5;241m.\u001b[39mprep_outputs(\n\u001b[0;32m    162\u001b[0m         inputs, outputs, return_only_outputs\n\u001b[0;32m    163\u001b[0m     )\n\u001b[0;32m    164\u001b[0m \u001b[38;5;28;01mexcept\u001b[39;00m \u001b[38;5;167;01mBaseException\u001b[39;00m \u001b[38;5;28;01mas\u001b[39;00m e:\n",
      "File \u001b[1;32mc:\\Users\\Geraldus Wilsen\\Documents\\Portfolio\\stock_agent\\venv\\lib\\site-packages\\langchain\\agents\\agent.py:1433\u001b[0m, in \u001b[0;36mAgentExecutor._call\u001b[1;34m(self, inputs, run_manager)\u001b[0m\n\u001b[0;32m   1431\u001b[0m \u001b[38;5;66;03m# We now enter the agent loop (until it returns something).\u001b[39;00m\n\u001b[0;32m   1432\u001b[0m \u001b[38;5;28;01mwhile\u001b[39;00m \u001b[38;5;28mself\u001b[39m\u001b[38;5;241m.\u001b[39m_should_continue(iterations, time_elapsed):\n\u001b[1;32m-> 1433\u001b[0m     next_step_output \u001b[38;5;241m=\u001b[39m \u001b[38;5;28;43mself\u001b[39;49m\u001b[38;5;241;43m.\u001b[39;49m\u001b[43m_take_next_step\u001b[49m\u001b[43m(\u001b[49m\n\u001b[0;32m   1434\u001b[0m \u001b[43m        \u001b[49m\u001b[43mname_to_tool_map\u001b[49m\u001b[43m,\u001b[49m\n\u001b[0;32m   1435\u001b[0m \u001b[43m        \u001b[49m\u001b[43mcolor_mapping\u001b[49m\u001b[43m,\u001b[49m\n\u001b[0;32m   1436\u001b[0m \u001b[43m        \u001b[49m\u001b[43minputs\u001b[49m\u001b[43m,\u001b[49m\n\u001b[0;32m   1437\u001b[0m \u001b[43m        \u001b[49m\u001b[43mintermediate_steps\u001b[49m\u001b[43m,\u001b[49m\n\u001b[0;32m   1438\u001b[0m \u001b[43m        \u001b[49m\u001b[43mrun_manager\u001b[49m\u001b[38;5;241;43m=\u001b[39;49m\u001b[43mrun_manager\u001b[49m\u001b[43m,\u001b[49m\n\u001b[0;32m   1439\u001b[0m \u001b[43m    \u001b[49m\u001b[43m)\u001b[49m\n\u001b[0;32m   1440\u001b[0m     \u001b[38;5;28;01mif\u001b[39;00m \u001b[38;5;28misinstance\u001b[39m(next_step_output, AgentFinish):\n\u001b[0;32m   1441\u001b[0m         \u001b[38;5;28;01mreturn\u001b[39;00m \u001b[38;5;28mself\u001b[39m\u001b[38;5;241m.\u001b[39m_return(\n\u001b[0;32m   1442\u001b[0m             next_step_output, intermediate_steps, run_manager\u001b[38;5;241m=\u001b[39mrun_manager\n\u001b[0;32m   1443\u001b[0m         )\n",
      "File \u001b[1;32mc:\\Users\\Geraldus Wilsen\\Documents\\Portfolio\\stock_agent\\venv\\lib\\site-packages\\langchain\\agents\\agent.py:1139\u001b[0m, in \u001b[0;36mAgentExecutor._take_next_step\u001b[1;34m(self, name_to_tool_map, color_mapping, inputs, intermediate_steps, run_manager)\u001b[0m\n\u001b[0;32m   1130\u001b[0m \u001b[38;5;28;01mdef\u001b[39;00m \u001b[38;5;21m_take_next_step\u001b[39m(\n\u001b[0;32m   1131\u001b[0m     \u001b[38;5;28mself\u001b[39m,\n\u001b[0;32m   1132\u001b[0m     name_to_tool_map: Dict[\u001b[38;5;28mstr\u001b[39m, BaseTool],\n\u001b[1;32m   (...)\u001b[0m\n\u001b[0;32m   1136\u001b[0m     run_manager: Optional[CallbackManagerForChainRun] \u001b[38;5;241m=\u001b[39m \u001b[38;5;28;01mNone\u001b[39;00m,\n\u001b[0;32m   1137\u001b[0m ) \u001b[38;5;241m-\u001b[39m\u001b[38;5;241m>\u001b[39m Union[AgentFinish, List[Tuple[AgentAction, \u001b[38;5;28mstr\u001b[39m]]]:\n\u001b[0;32m   1138\u001b[0m     \u001b[38;5;28;01mreturn\u001b[39;00m \u001b[38;5;28mself\u001b[39m\u001b[38;5;241m.\u001b[39m_consume_next_step(\n\u001b[1;32m-> 1139\u001b[0m         [\n\u001b[0;32m   1140\u001b[0m             a\n\u001b[0;32m   1141\u001b[0m             \u001b[38;5;28;01mfor\u001b[39;00m a \u001b[38;5;129;01min\u001b[39;00m \u001b[38;5;28mself\u001b[39m\u001b[38;5;241m.\u001b[39m_iter_next_step(\n\u001b[0;32m   1142\u001b[0m                 name_to_tool_map,\n\u001b[0;32m   1143\u001b[0m                 color_mapping,\n\u001b[0;32m   1144\u001b[0m                 inputs,\n\u001b[0;32m   1145\u001b[0m                 intermediate_steps,\n\u001b[0;32m   1146\u001b[0m                 run_manager,\n\u001b[0;32m   1147\u001b[0m             )\n\u001b[0;32m   1148\u001b[0m         ]\n\u001b[0;32m   1149\u001b[0m     )\n",
      "File \u001b[1;32mc:\\Users\\Geraldus Wilsen\\Documents\\Portfolio\\stock_agent\\venv\\lib\\site-packages\\langchain\\agents\\agent.py:1139\u001b[0m, in \u001b[0;36m<listcomp>\u001b[1;34m(.0)\u001b[0m\n\u001b[0;32m   1130\u001b[0m \u001b[38;5;28;01mdef\u001b[39;00m \u001b[38;5;21m_take_next_step\u001b[39m(\n\u001b[0;32m   1131\u001b[0m     \u001b[38;5;28mself\u001b[39m,\n\u001b[0;32m   1132\u001b[0m     name_to_tool_map: Dict[\u001b[38;5;28mstr\u001b[39m, BaseTool],\n\u001b[1;32m   (...)\u001b[0m\n\u001b[0;32m   1136\u001b[0m     run_manager: Optional[CallbackManagerForChainRun] \u001b[38;5;241m=\u001b[39m \u001b[38;5;28;01mNone\u001b[39;00m,\n\u001b[0;32m   1137\u001b[0m ) \u001b[38;5;241m-\u001b[39m\u001b[38;5;241m>\u001b[39m Union[AgentFinish, List[Tuple[AgentAction, \u001b[38;5;28mstr\u001b[39m]]]:\n\u001b[0;32m   1138\u001b[0m     \u001b[38;5;28;01mreturn\u001b[39;00m \u001b[38;5;28mself\u001b[39m\u001b[38;5;241m.\u001b[39m_consume_next_step(\n\u001b[1;32m-> 1139\u001b[0m         [\n\u001b[0;32m   1140\u001b[0m             a\n\u001b[0;32m   1141\u001b[0m             \u001b[38;5;28;01mfor\u001b[39;00m a \u001b[38;5;129;01min\u001b[39;00m \u001b[38;5;28mself\u001b[39m\u001b[38;5;241m.\u001b[39m_iter_next_step(\n\u001b[0;32m   1142\u001b[0m                 name_to_tool_map,\n\u001b[0;32m   1143\u001b[0m                 color_mapping,\n\u001b[0;32m   1144\u001b[0m                 inputs,\n\u001b[0;32m   1145\u001b[0m                 intermediate_steps,\n\u001b[0;32m   1146\u001b[0m                 run_manager,\n\u001b[0;32m   1147\u001b[0m             )\n\u001b[0;32m   1148\u001b[0m         ]\n\u001b[0;32m   1149\u001b[0m     )\n",
      "File \u001b[1;32mc:\\Users\\Geraldus Wilsen\\Documents\\Portfolio\\stock_agent\\venv\\lib\\site-packages\\langchain\\agents\\agent.py:1224\u001b[0m, in \u001b[0;36mAgentExecutor._iter_next_step\u001b[1;34m(self, name_to_tool_map, color_mapping, inputs, intermediate_steps, run_manager)\u001b[0m\n\u001b[0;32m   1222\u001b[0m     \u001b[38;5;28;01myield\u001b[39;00m agent_action\n\u001b[0;32m   1223\u001b[0m \u001b[38;5;28;01mfor\u001b[39;00m agent_action \u001b[38;5;129;01min\u001b[39;00m actions:\n\u001b[1;32m-> 1224\u001b[0m     \u001b[38;5;28;01myield\u001b[39;00m \u001b[38;5;28;43mself\u001b[39;49m\u001b[38;5;241;43m.\u001b[39;49m\u001b[43m_perform_agent_action\u001b[49m\u001b[43m(\u001b[49m\n\u001b[0;32m   1225\u001b[0m \u001b[43m        \u001b[49m\u001b[43mname_to_tool_map\u001b[49m\u001b[43m,\u001b[49m\u001b[43m \u001b[49m\u001b[43mcolor_mapping\u001b[49m\u001b[43m,\u001b[49m\u001b[43m \u001b[49m\u001b[43magent_action\u001b[49m\u001b[43m,\u001b[49m\u001b[43m \u001b[49m\u001b[43mrun_manager\u001b[49m\n\u001b[0;32m   1226\u001b[0m \u001b[43m    \u001b[49m\u001b[43m)\u001b[49m\n",
      "File \u001b[1;32mc:\\Users\\Geraldus Wilsen\\Documents\\Portfolio\\stock_agent\\venv\\lib\\site-packages\\langchain\\agents\\agent.py:1246\u001b[0m, in \u001b[0;36mAgentExecutor._perform_agent_action\u001b[1;34m(self, name_to_tool_map, color_mapping, agent_action, run_manager)\u001b[0m\n\u001b[0;32m   1244\u001b[0m         tool_run_kwargs[\u001b[38;5;124m\"\u001b[39m\u001b[38;5;124mllm_prefix\u001b[39m\u001b[38;5;124m\"\u001b[39m] \u001b[38;5;241m=\u001b[39m \u001b[38;5;124m\"\u001b[39m\u001b[38;5;124m\"\u001b[39m\n\u001b[0;32m   1245\u001b[0m     \u001b[38;5;66;03m# We then call the tool on the tool input to get an observation\u001b[39;00m\n\u001b[1;32m-> 1246\u001b[0m     observation \u001b[38;5;241m=\u001b[39m tool\u001b[38;5;241m.\u001b[39mrun(\n\u001b[0;32m   1247\u001b[0m         agent_action\u001b[38;5;241m.\u001b[39mtool_input,\n\u001b[0;32m   1248\u001b[0m         verbose\u001b[38;5;241m=\u001b[39m\u001b[38;5;28mself\u001b[39m\u001b[38;5;241m.\u001b[39mverbose,\n\u001b[0;32m   1249\u001b[0m         color\u001b[38;5;241m=\u001b[39mcolor,\n\u001b[0;32m   1250\u001b[0m         callbacks\u001b[38;5;241m=\u001b[39mrun_manager\u001b[38;5;241m.\u001b[39mget_child() \u001b[38;5;28;01mif\u001b[39;00m run_manager \u001b[38;5;28;01melse\u001b[39;00m \u001b[38;5;28;01mNone\u001b[39;00m,\n\u001b[0;32m   1251\u001b[0m         \u001b[38;5;241m*\u001b[39m\u001b[38;5;241m*\u001b[39mtool_run_kwargs,\n\u001b[0;32m   1252\u001b[0m     )\n\u001b[0;32m   1253\u001b[0m \u001b[38;5;28;01melse\u001b[39;00m:\n\u001b[0;32m   1254\u001b[0m     tool_run_kwargs \u001b[38;5;241m=\u001b[39m \u001b[38;5;28mself\u001b[39m\u001b[38;5;241m.\u001b[39magent\u001b[38;5;241m.\u001b[39mtool_run_logging_kwargs()\n",
      "File \u001b[1;32mc:\\Users\\Geraldus Wilsen\\Documents\\Portfolio\\stock_agent\\venv\\lib\\site-packages\\langchain_core\\tools.py:417\u001b[0m, in \u001b[0;36mBaseTool.run\u001b[1;34m(self, tool_input, verbose, start_color, color, callbacks, tags, metadata, run_name, run_id, config, **kwargs)\u001b[0m\n\u001b[0;32m    415\u001b[0m \u001b[38;5;28;01mexcept\u001b[39;00m ValidationError \u001b[38;5;28;01mas\u001b[39;00m e:\n\u001b[0;32m    416\u001b[0m     \u001b[38;5;28;01mif\u001b[39;00m \u001b[38;5;129;01mnot\u001b[39;00m \u001b[38;5;28mself\u001b[39m\u001b[38;5;241m.\u001b[39mhandle_validation_error:\n\u001b[1;32m--> 417\u001b[0m         \u001b[38;5;28;01mraise\u001b[39;00m e\n\u001b[0;32m    418\u001b[0m     \u001b[38;5;28;01melif\u001b[39;00m \u001b[38;5;28misinstance\u001b[39m(\u001b[38;5;28mself\u001b[39m\u001b[38;5;241m.\u001b[39mhandle_validation_error, \u001b[38;5;28mbool\u001b[39m):\n\u001b[0;32m    419\u001b[0m         observation \u001b[38;5;241m=\u001b[39m \u001b[38;5;124m\"\u001b[39m\u001b[38;5;124mTool input validation error\u001b[39m\u001b[38;5;124m\"\u001b[39m\n",
      "File \u001b[1;32mc:\\Users\\Geraldus Wilsen\\Documents\\Portfolio\\stock_agent\\venv\\lib\\site-packages\\langchain_core\\tools.py:406\u001b[0m, in \u001b[0;36mBaseTool.run\u001b[1;34m(self, tool_input, verbose, start_color, color, callbacks, tags, metadata, run_name, run_id, config, **kwargs)\u001b[0m\n\u001b[0;32m    404\u001b[0m context \u001b[38;5;241m=\u001b[39m copy_context()\n\u001b[0;32m    405\u001b[0m context\u001b[38;5;241m.\u001b[39mrun(var_child_runnable_config\u001b[38;5;241m.\u001b[39mset, child_config)\n\u001b[1;32m--> 406\u001b[0m parsed_input \u001b[38;5;241m=\u001b[39m \u001b[38;5;28;43mself\u001b[39;49m\u001b[38;5;241;43m.\u001b[39;49m\u001b[43m_parse_input\u001b[49m\u001b[43m(\u001b[49m\u001b[43mtool_input\u001b[49m\u001b[43m)\u001b[49m\n\u001b[0;32m    407\u001b[0m tool_args, tool_kwargs \u001b[38;5;241m=\u001b[39m \u001b[38;5;28mself\u001b[39m\u001b[38;5;241m.\u001b[39m_to_args_and_kwargs(parsed_input)\n\u001b[0;32m    408\u001b[0m observation \u001b[38;5;241m=\u001b[39m (\n\u001b[0;32m    409\u001b[0m     context\u001b[38;5;241m.\u001b[39mrun(\n\u001b[0;32m    410\u001b[0m         \u001b[38;5;28mself\u001b[39m\u001b[38;5;241m.\u001b[39m_run, \u001b[38;5;241m*\u001b[39mtool_args, run_manager\u001b[38;5;241m=\u001b[39mrun_manager, \u001b[38;5;241m*\u001b[39m\u001b[38;5;241m*\u001b[39mtool_kwargs\n\u001b[1;32m   (...)\u001b[0m\n\u001b[0;32m    413\u001b[0m     \u001b[38;5;28;01melse\u001b[39;00m context\u001b[38;5;241m.\u001b[39mrun(\u001b[38;5;28mself\u001b[39m\u001b[38;5;241m.\u001b[39m_run, \u001b[38;5;241m*\u001b[39mtool_args, \u001b[38;5;241m*\u001b[39m\u001b[38;5;241m*\u001b[39mtool_kwargs)\n\u001b[0;32m    414\u001b[0m )\n",
      "File \u001b[1;32mc:\\Users\\Geraldus Wilsen\\Documents\\Portfolio\\stock_agent\\venv\\lib\\site-packages\\langchain_core\\tools.py:304\u001b[0m, in \u001b[0;36mBaseTool._parse_input\u001b[1;34m(self, tool_input)\u001b[0m\n\u001b[0;32m    302\u001b[0m \u001b[38;5;28;01melse\u001b[39;00m:\n\u001b[0;32m    303\u001b[0m     \u001b[38;5;28;01mif\u001b[39;00m input_args \u001b[38;5;129;01mis\u001b[39;00m \u001b[38;5;129;01mnot\u001b[39;00m \u001b[38;5;28;01mNone\u001b[39;00m:\n\u001b[1;32m--> 304\u001b[0m         result \u001b[38;5;241m=\u001b[39m \u001b[43minput_args\u001b[49m\u001b[38;5;241;43m.\u001b[39;49m\u001b[43mparse_obj\u001b[49m\u001b[43m(\u001b[49m\u001b[43mtool_input\u001b[49m\u001b[43m)\u001b[49m\n\u001b[0;32m    305\u001b[0m         \u001b[38;5;28;01mreturn\u001b[39;00m {\n\u001b[0;32m    306\u001b[0m             k: \u001b[38;5;28mgetattr\u001b[39m(result, k)\n\u001b[0;32m    307\u001b[0m             \u001b[38;5;28;01mfor\u001b[39;00m k, v \u001b[38;5;129;01min\u001b[39;00m result\u001b[38;5;241m.\u001b[39mdict()\u001b[38;5;241m.\u001b[39mitems()\n\u001b[0;32m    308\u001b[0m             \u001b[38;5;28;01mif\u001b[39;00m k \u001b[38;5;129;01min\u001b[39;00m tool_input\n\u001b[0;32m    309\u001b[0m         }\n\u001b[0;32m    310\u001b[0m \u001b[38;5;28;01mreturn\u001b[39;00m tool_input\n",
      "File \u001b[1;32mc:\\Users\\Geraldus Wilsen\\Documents\\Portfolio\\stock_agent\\venv\\lib\\site-packages\\pydantic\\v1\\main.py:526\u001b[0m, in \u001b[0;36mBaseModel.parse_obj\u001b[1;34m(cls, obj)\u001b[0m\n\u001b[0;32m    524\u001b[0m         exc \u001b[38;5;241m=\u001b[39m \u001b[38;5;167;01mTypeError\u001b[39;00m(\u001b[38;5;124mf\u001b[39m\u001b[38;5;124m'\u001b[39m\u001b[38;5;132;01m{\u001b[39;00m\u001b[38;5;28mcls\u001b[39m\u001b[38;5;241m.\u001b[39m\u001b[38;5;18m__name__\u001b[39m\u001b[38;5;132;01m}\u001b[39;00m\u001b[38;5;124m expected dict not \u001b[39m\u001b[38;5;132;01m{\u001b[39;00mobj\u001b[38;5;241m.\u001b[39m\u001b[38;5;18m__class__\u001b[39m\u001b[38;5;241m.\u001b[39m\u001b[38;5;18m__name__\u001b[39m\u001b[38;5;132;01m}\u001b[39;00m\u001b[38;5;124m'\u001b[39m)\n\u001b[0;32m    525\u001b[0m         \u001b[38;5;28;01mraise\u001b[39;00m ValidationError([ErrorWrapper(exc, loc\u001b[38;5;241m=\u001b[39mROOT_KEY)], \u001b[38;5;28mcls\u001b[39m) \u001b[38;5;28;01mfrom\u001b[39;00m \u001b[38;5;21;01me\u001b[39;00m\n\u001b[1;32m--> 526\u001b[0m \u001b[38;5;28;01mreturn\u001b[39;00m \u001b[38;5;28mcls\u001b[39m(\u001b[38;5;241m*\u001b[39m\u001b[38;5;241m*\u001b[39mobj)\n",
      "File \u001b[1;32mc:\\Users\\Geraldus Wilsen\\Documents\\Portfolio\\stock_agent\\venv\\lib\\site-packages\\pydantic\\v1\\main.py:341\u001b[0m, in \u001b[0;36mBaseModel.__init__\u001b[1;34m(__pydantic_self__, **data)\u001b[0m\n\u001b[0;32m    339\u001b[0m values, fields_set, validation_error \u001b[38;5;241m=\u001b[39m validate_model(__pydantic_self__\u001b[38;5;241m.\u001b[39m\u001b[38;5;18m__class__\u001b[39m, data)\n\u001b[0;32m    340\u001b[0m \u001b[38;5;28;01mif\u001b[39;00m validation_error:\n\u001b[1;32m--> 341\u001b[0m     \u001b[38;5;28;01mraise\u001b[39;00m validation_error\n\u001b[0;32m    342\u001b[0m \u001b[38;5;28;01mtry\u001b[39;00m:\n\u001b[0;32m    343\u001b[0m     object_setattr(__pydantic_self__, \u001b[38;5;124m'\u001b[39m\u001b[38;5;124m__dict__\u001b[39m\u001b[38;5;124m'\u001b[39m, values)\n",
      "\u001b[1;31mValidationError\u001b[0m: 1 validation error for SearchInput\nstock\n  Stock ticker should only contain up to 4 alphabetic characters (type=value_error)"
     ]
    }
   ],
   "source": [
    "from pydantic.v1 import BaseModel, Field, validator\n",
    "from datetime import datetime\n",
    "\n",
    "class SearchInput(BaseModel):\n",
    "    stock: str = Field(description=\"Stock ticker to search for, should only contain up to 4 characters\")\n",
    "    start_date: str = Field(description=\"Start date in yyyy-mm-dd format\")\n",
    "    end_date: str = Field(description=\"End date in yyyy-mm-dd format\")\n",
    "    \n",
    "    @validator('stock')\n",
    "    def validate_stock(cls, v):\n",
    "        if not v.isalpha() or len(v) > 4:\n",
    "            raise ValueError('Stock ticker should only contain up to 4 alphabetic characters')\n",
    "        return v\n",
    "\n",
    "    @validator('start_date', 'end_date')\n",
    "    def validate_date_format(cls, v):\n",
    "        try:\n",
    "            datetime.strptime(v, '%Y-%m-%d')\n",
    "        except ValueError:\n",
    "            raise ValueError('Date must be in yyyy-mm-dd format')\n",
    "        return v\n",
    "    \n",
    "@tool(args_schema=SearchInput)\n",
    "def get_daily_transaction_data(stock: str, start_date:str, end_date:str ) -> str:\n",
    "    \"\"\"Get daily transaction data for stock, such as close price, volume, and market cap on certain date\"\"\"\n",
    "    stock = stock.lower()\n",
    "    url = f\"https://api.sectors.app/v1/daily/{stock}/?start={start_date}&end={end_date}\"\n",
    "    api_key = sectors_api_key\n",
    "\n",
    "    headers = {\"Authorization\": api_key}\n",
    "    response = requests.get(url, headers = headers)\n",
    "\n",
    "    if response.status_code == 200:\n",
    "        data = response.json()\n",
    "        result = json.dumps(data)\n",
    "    else:\n",
    "        raise ValueError(\"No available data\")\n",
    "    \n",
    "    return result\n",
    "\n",
    "prompt = ChatPromptTemplate.from_messages([\n",
    "    (\"system\", \"you're a helpful assistant\"),\n",
    "    (\"human\", \"{input}\"),\n",
    "    (\"placeholder\", \"{agent_scratchpad}\"),\n",
    "])\n",
    "\n",
    "tools = [get_daily_transaction_data ]\n",
    "agent = create_tool_calling_agent(llm, tools, prompt)\n",
    "agent_executor = AgentExecutor(agent=agent, tools=tools)\n",
    "\n",
    "query = \"Based on the closing prices of BBRII from April 1 to April 28, is the trend positive or negative? Give me the detailed reason\"\n",
    "print(\"Question:\", query)\n",
    "result = agent_executor.invoke({\"input\": query})\n",
    "print(\"Answer:\",result['output'])"
   ]
  },
  {
   "cell_type": "markdown",
   "metadata": {},
   "source": [
    "Great, now we have ValidationError. But, this way, ini masih gabagus, makae kita butuh StructuredTool"
   ]
  },
  {
   "cell_type": "markdown",
   "metadata": {},
   "source": [
    "# Structured Tools"
   ]
  },
  {
   "cell_type": "markdown",
   "metadata": {},
   "source": [
    "https://blog.langchain.dev/structured-tools/"
   ]
  },
  {
   "cell_type": "code",
   "execution_count": 109,
   "metadata": {},
   "outputs": [],
   "source": [
    "from pydantic.v1 import BaseModel, Field, validator\n",
    "from datetime import datetime\n",
    "from langchain_core.tools import StructuredTool\n",
    "from langchain_core.tools import ToolException\n",
    "\n",
    "class SearchInput(BaseModel):\n",
    "    stock: str = Field(description=\"Stock ticker to search for, should only contain up to 4 characters\")\n",
    "    start_date: str = Field(description=\"Start date in yyyy-mm-dd format\")\n",
    "    end_date: str = Field(description=\"End date in yyyy-mm-dd format\")\n",
    "    \n",
    "    @validator('stock')\n",
    "    def validate_stock(cls, v):\n",
    "        if not v.isalpha() or len(v) > 4:\n",
    "            raise ToolException('Stock ticker should only contain up to 4 alphabetic characters')\n",
    "        return v\n",
    "\n",
    "    @validator('start_date', 'end_date')\n",
    "    def validate_date_format(cls, v):\n",
    "        try:\n",
    "            datetime.strptime(v, '%Y-%m-%d')\n",
    "        except ValueError:\n",
    "            raise ToolException('Date must be in yyyy-mm-dd format')\n",
    "        return v\n",
    "    \n",
    "def get_daily_transaction_data(stock: str, start_date:str, end_date:str ) -> str:\n",
    "    \"\"\"Get daily transaction data for stock, such as close price, volume, and market cap on certain date\"\"\"\n",
    "\n",
    "    url = f\"https://api.sectors.app/v1/daily/{stock}/?start={start_date}&end={end_date}\"\n",
    "    api_key = sectors_api_key\n",
    "\n",
    "    headers = {\"Authorization\": api_key}\n",
    "    response = requests.get(url, headers = headers)\n",
    "\n",
    "    if response.status_code == 200:\n",
    "        data = response.json()\n",
    "        result = json.dumps(data)\n",
    "    else:\n",
    "        raise ToolException(f\"No data available for {stock}\")\n",
    "    return result\n",
    "\n",
    "get_daily_transaction_data_tool = StructuredTool.from_function(\n",
    "    func=get_daily_transaction_data,\n",
    "    args_schema= SearchInput,\n",
    "    handle_tool_error=True,\n",
    ")\n",
    "\n",
    "prompt = ChatPromptTemplate.from_messages([\n",
    "    (\"system\", \"you're a helpful assistant\"),\n",
    "    (\"human\", \"{input}\"),\n",
    "    (\"placeholder\", \"{agent_scratchpad}\"),\n",
    "])\n",
    "\n",
    "tools = [get_daily_transaction_data_tool]\n",
    "\n",
    "agent = create_tool_calling_agent(llm, tools, prompt)\n",
    "agent_executor = AgentExecutor(agent=agent, tools=tools)\n"
   ]
  },
  {
   "cell_type": "code",
   "execution_count": 190,
   "metadata": {},
   "outputs": [
    {
     "name": "stdout",
     "output_type": "stream",
     "text": [
      "Question: Based on the closing prices of BBRI from April 1 2024 to April 28 2024, is the trend positive or negative? Give me the detailed reason\n",
      "\n",
      "\n",
      "\u001b[1m> Entering new AgentExecutor chain...\u001b[0m\n",
      "\u001b[32;1m\u001b[1;3m\n",
      "Invoking: `get_daily_transaction_data` with `{'start_date': '2024-04-01', 'end_date': '2024-04-28', 'stock': 'BBRI'}`\n",
      "\n",
      "\n",
      "\u001b[0m\u001b[36;1m\u001b[1;3m[{\"symbol\": \"BBRI.JK\", \"date\": \"2024-04-01\", \"close\": 5925, \"volume\": 217207800, \"market_cap\": 893436680994816}, {\"symbol\": \"BBRI.JK\", \"date\": \"2024-04-02\", \"close\": 5675, \"volume\": 412180900, \"market_cap\": 855738880622592}, {\"symbol\": \"BBRI.JK\", \"date\": \"2024-04-03\", \"close\": 5625, \"volume\": 333518700, \"market_cap\": 848199333969920}, {\"symbol\": \"BBRI.JK\", \"date\": \"2024-04-04\", \"close\": 5700, \"volume\": 131936100, \"market_cap\": 867146649305088}, {\"symbol\": \"BBRI.JK\", \"date\": \"2024-04-05\", \"close\": 5650, \"volume\": 178817800, \"market_cap\": 851969107296256}, {\"symbol\": \"BBRI.JK\", \"date\": \"2024-04-16\", \"close\": 5350, \"volume\": 600717500, \"market_cap\": 806731827380224}, {\"symbol\": \"BBRI.JK\", \"date\": \"2024-04-17\", \"close\": 5300, \"volume\": 244002000, \"market_cap\": 799192280727552}, {\"symbol\": \"BBRI.JK\", \"date\": \"2024-04-18\", \"close\": 5475, \"volume\": 247410700, \"market_cap\": 825580694011904}, {\"symbol\": \"BBRI.JK\", \"date\": \"2024-04-19\", \"close\": 5275, \"volume\": 258211500, \"market_cap\": 795422507401216}, {\"symbol\": \"BBRI.JK\", \"date\": \"2024-04-22\", \"close\": 5300, \"volume\": 342282800, \"market_cap\": 799192280727552}, {\"symbol\": \"BBRI.JK\", \"date\": \"2024-04-23\", \"close\": 5300, \"volume\": 281403100, \"market_cap\": 799192280727552}, {\"symbol\": \"BBRI.JK\", \"date\": \"2024-04-24\", \"close\": 5225, \"volume\": 471241400, \"market_cap\": 787882960748544}, {\"symbol\": \"BBRI.JK\", \"date\": \"2024-04-25\", \"close\": 5150, \"volume\": 479170900, \"market_cap\": 776573640769536}, {\"symbol\": \"BBRI.JK\", \"date\": \"2024-04-26\", \"close\": 4830, \"volume\": 782589900, \"market_cap\": 728320488505344}]\u001b[0m\u001b[32;1m\u001b[1;3mBased on the closing prices of BBRI from April 1, 2024, to April 28, 2024, the trend is negative.\n",
      "\n",
      "The highest closing price was 5925 on April 1, 2024, and the lowest closing price was 4830 on April 26, 2024. The closing prices generally decreased over the period, with some fluctuations. The overall direction is downward, indicating a negative trend.\u001b[0m\n",
      "\n",
      "\u001b[1m> Finished chain.\u001b[0m\n",
      "Answer: Based on the closing prices of BBRI from April 1, 2024, to April 28, 2024, the trend is negative.\n",
      "\n",
      "The highest closing price was 5925 on April 1, 2024, and the lowest closing price was 4830 on April 26, 2024. The closing prices generally decreased over the period, with some fluctuations. The overall direction is downward, indicating a negative trend.\n"
     ]
    }
   ],
   "source": [
    "query = \"Based on the closing prices of BBRI from April 1 2024 to April 28 2024, is the trend positive or negative? Give me the detailed reason\"\n",
    "print(\"Question:\", query)\n",
    "result = agent_executor.invoke({\"input\": query})\n",
    "print(\"Answer:\",result['output'])"
   ]
  },
  {
   "cell_type": "code",
   "execution_count": 198,
   "metadata": {},
   "outputs": [
    {
     "data": {
      "text/plain": [
       "'Based on the closing prices of BBRI from April 1, 2024, to April 28, 2024, the trend is negative.\\n\\nThe highest closing price was 5925 on April 1, 2024, and the lowest closing price was 4830 on April 26, 2024. The closing prices generally decreased over the period, with some fluctuations. The overall direction is downward, indicating a negative trend.'"
      ]
     },
     "execution_count": 198,
     "metadata": {},
     "output_type": "execute_result"
    }
   ],
   "source": []
  },
  {
   "cell_type": "code",
   "execution_count": 171,
   "metadata": {},
   "outputs": [
    {
     "name": "stdout",
     "output_type": "stream",
     "text": [
      "Question: Based on the closing prices of BBRII from April 1 2024 to April 28 2024, is the trend positive or negative? Give me the detailed reason\n",
      "\n",
      "\n",
      "\u001b[1m> Entering new AgentExecutor chain...\u001b[0m\n",
      "\u001b[32;1m\u001b[1;3m\n",
      "Invoking: `get_daily_transaction_data` with `{'start_date': '2024-04-01', 'end_date': '2024-04-28', 'stock': 'BBRII'}`\n",
      "\n",
      "\n",
      "\u001b[0m\u001b[31;1m\u001b[1;3mStock ticker should only contain up to 4 alphabetic characters\u001b[0m\u001b[32;1m\u001b[1;3mI apologize for the mistake. It seems that the stock ticker \"BBRII\" has more than 4 characters. I'll make sure to provide a correct input.\n",
      "\n",
      "Can you please provide the correct stock ticker with up to 4 alphabetic characters? I'll be happy to assist you further.\u001b[0m\n",
      "\n",
      "\u001b[1m> Finished chain.\u001b[0m\n",
      "Answer: I apologize for the mistake. It seems that the stock ticker \"BBRII\" has more than 4 characters. I'll make sure to provide a correct input.\n",
      "\n",
      "Can you please provide the correct stock ticker with up to 4 alphabetic characters? I'll be happy to assist you further.\n"
     ]
    }
   ],
   "source": [
    "query = \"Based on the closing prices of BBRII from April 1 2024 to April 28 2024, is the trend positive or negative? Give me the detailed reason\"\n",
    "print(\"Question:\", query)\n",
    "result = agent_executor.invoke({\"input\": query})\n",
    "print(\"Answer:\",result['output'])"
   ]
  },
  {
   "cell_type": "markdown",
   "metadata": {},
   "source": [
    "# Adding memory"
   ]
  },
  {
   "cell_type": "markdown",
   "metadata": {},
   "source": [
    "Make sure the langchain version is 0.0.354, documentation: https://python.langchain.com/v0.1/docs/expression_language/how_to/message_history/"
   ]
  },
  {
   "cell_type": "code",
   "execution_count": null,
   "metadata": {},
   "outputs": [],
   "source": [
    "from langchain_community.chat_message_histories import ChatMessageHistory\n",
    "from langchain_core.runnables.history import RunnableWithMessageHistory\n",
    "from langchain_core.chat_history import BaseChatMessageHistory\n",
    "from langchain_core.prompts import ChatPromptTemplate, MessagesPlaceholder"
   ]
  },
  {
   "cell_type": "code",
   "execution_count": 211,
   "metadata": {},
   "outputs": [],
   "source": [
    "prompt = ChatPromptTemplate.from_messages([\n",
    "    (\"system\", \"you're a helpful assistant\"),\n",
    "    (\"placeholder\", \"{history}\"), # add this or could be: MessagesPlaceholder(variable_name=\"history\"),\n",
    "    (\"human\", \"{input}\"),\n",
    "    (\"placeholder\", \"{agent_scratchpad}\"),\n",
    "])\n",
    "\n",
    "tools = [get_daily_transaction_data_tool]\n",
    "\n",
    "agent = create_tool_calling_agent(llm, tools, prompt)\n",
    "agent_executor = AgentExecutor(agent=agent, tools=tools, verbose = True)"
   ]
  },
  {
   "cell_type": "code",
   "execution_count": 212,
   "metadata": {},
   "outputs": [
    {
     "name": "stdout",
     "output_type": "stream",
     "text": [
      "History: {}\n"
     ]
    }
   ],
   "source": [
    "store = {} # This dictionary acts like a dummy database that save the message history\n",
    "print(\"History:\", store)\n",
    "\n",
    "def get_session_history(session_id: str) -> BaseChatMessageHistory:\n",
    "    if session_id not in store:\n",
    "        store[session_id] = ChatMessageHistory()\n",
    "    return store[session_id]\n",
    "\n",
    "agent_executor_w_memory = RunnableWithMessageHistory(\n",
    "    agent_executor,\n",
    "    get_session_history,\n",
    "    input_messages_key=\"input\",\n",
    "    history_messages_key=\"history\"\n",
    ")"
   ]
  },
  {
   "cell_type": "code",
   "execution_count": 213,
   "metadata": {},
   "outputs": [
    {
     "name": "stdout",
     "output_type": "stream",
     "text": [
      "\n",
      "\n",
      "\u001b[1m> Entering new AgentExecutor chain...\u001b[0m\n",
      "\u001b[32;1m\u001b[1;3mHi Wilsen! It's nice to meet you. Is there something I can help you with or would you like to chat about something in particular?\u001b[0m\n",
      "\n",
      "\u001b[1m> Finished chain.\u001b[0m\n"
     ]
    },
    {
     "data": {
      "text/plain": [
       "{'input': \"Hi, I'm Wilsen\",\n",
       " 'history': [],\n",
       " 'output': \"Hi Wilsen! It's nice to meet you. Is there something I can help you with or would you like to chat about something in particular?\"}"
      ]
     },
     "execution_count": 213,
     "metadata": {},
     "output_type": "execute_result"
    }
   ],
   "source": [
    "agent_executor_w_memory.invoke(\n",
    "    {\"input\": \"Hi, I'm Wilsen\"},\n",
    "    config={\"configurable\": {\"session_id\": \"abc123\"}},\n",
    ")"
   ]
  },
  {
   "cell_type": "code",
   "execution_count": 214,
   "metadata": {},
   "outputs": [
    {
     "name": "stdout",
     "output_type": "stream",
     "text": [
      "\n",
      "\n",
      "\u001b[1m> Entering new AgentExecutor chain...\u001b[0m\n",
      "\u001b[32;1m\u001b[1;3mYou're Wilsen! We just introduced ourselves a moment ago. Is there something specific you'd like to know or talk about, Wilsen?\u001b[0m\n",
      "\n",
      "\u001b[1m> Finished chain.\u001b[0m\n"
     ]
    },
    {
     "data": {
      "text/plain": [
       "{'input': 'Who am I',\n",
       " 'history': [HumanMessage(content=\"Hi, I'm Wilsen\"),\n",
       "  AIMessage(content=\"Hi Wilsen! It's nice to meet you. Is there something I can help you with or would you like to chat about something in particular?\")],\n",
       " 'output': \"You're Wilsen! We just introduced ourselves a moment ago. Is there something specific you'd like to know or talk about, Wilsen?\"}"
      ]
     },
     "execution_count": 214,
     "metadata": {},
     "output_type": "execute_result"
    }
   ],
   "source": [
    "agent_executor_w_memory.invoke(\n",
    "    {\"input\": \"Who am I\"},\n",
    "    config={\"configurable\": {\"session_id\": \"abc123\"}},\n",
    ")"
   ]
  },
  {
   "cell_type": "code",
   "execution_count": 215,
   "metadata": {},
   "outputs": [
    {
     "name": "stdout",
     "output_type": "stream",
     "text": [
      "\n",
      "\n",
      "\u001b[1m> Entering new AgentExecutor chain...\u001b[0m\n",
      "\u001b[32;1m\u001b[1;3m\n",
      "Invoking: `get_daily_transaction_data` with `{'start_date': '2024-04-01', 'end_date': '2024-04-28', 'stock': 'BBRI'}`\n",
      "\n",
      "\n",
      "\u001b[0m\u001b[36;1m\u001b[1;3m[{\"symbol\": \"BBRI.JK\", \"date\": \"2024-04-01\", \"close\": 5925, \"volume\": 217207800, \"market_cap\": 893436680994816}, {\"symbol\": \"BBRI.JK\", \"date\": \"2024-04-02\", \"close\": 5675, \"volume\": 412180900, \"market_cap\": 855738880622592}, {\"symbol\": \"BBRI.JK\", \"date\": \"2024-04-03\", \"close\": 5625, \"volume\": 333518700, \"market_cap\": 848199333969920}, {\"symbol\": \"BBRI.JK\", \"date\": \"2024-04-04\", \"close\": 5700, \"volume\": 131936100, \"market_cap\": 867146649305088}, {\"symbol\": \"BBRI.JK\", \"date\": \"2024-04-05\", \"close\": 5650, \"volume\": 178817800, \"market_cap\": 851969107296256}, {\"symbol\": \"BBRI.JK\", \"date\": \"2024-04-16\", \"close\": 5350, \"volume\": 600717500, \"market_cap\": 806731827380224}, {\"symbol\": \"BBRI.JK\", \"date\": \"2024-04-17\", \"close\": 5300, \"volume\": 244002000, \"market_cap\": 799192280727552}, {\"symbol\": \"BBRI.JK\", \"date\": \"2024-04-18\", \"close\": 5475, \"volume\": 247410700, \"market_cap\": 825580694011904}, {\"symbol\": \"BBRI.JK\", \"date\": \"2024-04-19\", \"close\": 5275, \"volume\": 258211500, \"market_cap\": 795422507401216}, {\"symbol\": \"BBRI.JK\", \"date\": \"2024-04-22\", \"close\": 5300, \"volume\": 342282800, \"market_cap\": 799192280727552}, {\"symbol\": \"BBRI.JK\", \"date\": \"2024-04-23\", \"close\": 5300, \"volume\": 281403100, \"market_cap\": 799192280727552}, {\"symbol\": \"BBRI.JK\", \"date\": \"2024-04-24\", \"close\": 5225, \"volume\": 471241400, \"market_cap\": 787882960748544}, {\"symbol\": \"BBRI.JK\", \"date\": \"2024-04-25\", \"close\": 5150, \"volume\": 479170900, \"market_cap\": 776573640769536}, {\"symbol\": \"BBRI.JK\", \"date\": \"2024-04-26\", \"close\": 4830, \"volume\": 782589900, \"market_cap\": 728320488505344}]\u001b[0m\u001b[32;1m\u001b[1;3mBased on the closing prices of BBRI from April 1, 2024, to April 28, 2024, the trend is negative.\n",
      "\n",
      "Here's a detailed reason:\n",
      "\n",
      "The highest closing price was 5925 on April 1, 2024, and the lowest closing price was 4830 on April 26, 2024. Throughout the period, the closing prices generally decreased, with some fluctuations. The overall direction is downward, indicating a negative trend.\n",
      "\n",
      "To give you a better idea, here's a brief summary of the closing prices:\n",
      "\n",
      "* The first half of the period (April 1-5) saw a decline in closing prices, from 5925 to 5650.\n",
      "* The second half of the period (April 16-28) saw another decline, from 5350 to 4830.\n",
      "\n",
      "This consistent downward movement indicates a negative trend in the closing prices of BBRI during the specified period.\u001b[0m\n",
      "\n",
      "\u001b[1m> Finished chain.\u001b[0m\n"
     ]
    },
    {
     "data": {
      "text/plain": [
       "{'input': 'Based on the closing prices of BBRI from April 1 2024 to April 28 2024, is the trend positive or negative? Give me the detailed reason',\n",
       " 'history': [HumanMessage(content=\"Hi, I'm Wilsen\"),\n",
       "  AIMessage(content=\"Hi Wilsen! It's nice to meet you. Is there something I can help you with or would you like to chat about something in particular?\"),\n",
       "  HumanMessage(content='Who am I'),\n",
       "  AIMessage(content=\"You're Wilsen! We just introduced ourselves a moment ago. Is there something specific you'd like to know or talk about, Wilsen?\")],\n",
       " 'output': \"Based on the closing prices of BBRI from April 1, 2024, to April 28, 2024, the trend is negative.\\n\\nHere's a detailed reason:\\n\\nThe highest closing price was 5925 on April 1, 2024, and the lowest closing price was 4830 on April 26, 2024. Throughout the period, the closing prices generally decreased, with some fluctuations. The overall direction is downward, indicating a negative trend.\\n\\nTo give you a better idea, here's a brief summary of the closing prices:\\n\\n* The first half of the period (April 1-5) saw a decline in closing prices, from 5925 to 5650.\\n* The second half of the period (April 16-28) saw another decline, from 5350 to 4830.\\n\\nThis consistent downward movement indicates a negative trend in the closing prices of BBRI during the specified period.\"}"
      ]
     },
     "execution_count": 215,
     "metadata": {},
     "output_type": "execute_result"
    }
   ],
   "source": [
    "agent_executor_w_memory.invoke(\n",
    "    {\"input\": query},\n",
    "    config={\"configurable\": {\"session_id\": \"abc123\"}},\n",
    ")"
   ]
  },
  {
   "cell_type": "code",
   "execution_count": 216,
   "metadata": {},
   "outputs": [
    {
     "name": "stdout",
     "output_type": "stream",
     "text": [
      "\n",
      "\n",
      "\u001b[1m> Entering new AgentExecutor chain...\u001b[0m\n",
      "\u001b[32;1m\u001b[1;3m\n",
      "Invoking: `get_daily_transaction_data` with `{'end_date': '2024-04-28', 'start_date': '2024-04-01', 'stock': 'BBRI'}`\n",
      "\n",
      "\n",
      "\u001b[0m\u001b[36;1m\u001b[1;3m[{\"symbol\": \"BBRI.JK\", \"date\": \"2024-04-01\", \"close\": 5925, \"volume\": 217207800, \"market_cap\": 893436680994816}, {\"symbol\": \"BBRI.JK\", \"date\": \"2024-04-02\", \"close\": 5675, \"volume\": 412180900, \"market_cap\": 855738880622592}, {\"symbol\": \"BBRI.JK\", \"date\": \"2024-04-03\", \"close\": 5625, \"volume\": 333518700, \"market_cap\": 848199333969920}, {\"symbol\": \"BBRI.JK\", \"date\": \"2024-04-04\", \"close\": 5700, \"volume\": 131936100, \"market_cap\": 867146649305088}, {\"symbol\": \"BBRI.JK\", \"date\": \"2024-04-05\", \"close\": 5650, \"volume\": 178817800, \"market_cap\": 851969107296256}, {\"symbol\": \"BBRI.JK\", \"date\": \"2024-04-16\", \"close\": 5350, \"volume\": 600717500, \"market_cap\": 806731827380224}, {\"symbol\": \"BBRI.JK\", \"date\": \"2024-04-17\", \"close\": 5300, \"volume\": 244002000, \"market_cap\": 799192280727552}, {\"symbol\": \"BBRI.JK\", \"date\": \"2024-04-18\", \"close\": 5475, \"volume\": 247410700, \"market_cap\": 825580694011904}, {\"symbol\": \"BBRI.JK\", \"date\": \"2024-04-19\", \"close\": 5275, \"volume\": 258211500, \"market_cap\": 795422507401216}, {\"symbol\": \"BBRI.JK\", \"date\": \"2024-04-22\", \"close\": 5300, \"volume\": 342282800, \"market_cap\": 799192280727552}, {\"symbol\": \"BBRI.JK\", \"date\": \"2024-04-23\", \"close\": 5300, \"volume\": 281403100, \"market_cap\": 799192280727552}, {\"symbol\": \"BBRI.JK\", \"date\": \"2024-04-24\", \"close\": 5225, \"volume\": 471241400, \"market_cap\": 787882960748544}, {\"symbol\": \"BBRI.JK\", \"date\": \"2024-04-25\", \"close\": 5150, \"volume\": 479170900, \"market_cap\": 776573640769536}, {\"symbol\": \"BBRI.JK\", \"date\": \"2024-04-26\", \"close\": 4830, \"volume\": 782589900, \"market_cap\": 728320488505344}]\u001b[0m\u001b[32;1m\u001b[1;3mBased on the market capitalization data, the trend is also negative.\n",
      "\n",
      "Here's a brief analysis:\n",
      "\n",
      "* The highest market capitalization was 893,436,680,994,816 on April 1, 2024.\n",
      "* The lowest market capitalization was 728,320,488,505,344 on April 26, 2024.\n",
      "* Throughout the period, the market capitalization generally decreased, with some fluctuations. The overall direction is downward, indicating a negative trend.\n",
      "\n",
      "The market capitalization decreased by approximately 165,116,192,489,472 (or about 18.5%) from April 1 to April 26, 2024. This significant decline in market capitalization indicates a negative trend.\u001b[0m\n",
      "\n",
      "\u001b[1m> Finished chain.\u001b[0m\n"
     ]
    },
    {
     "data": {
      "text/plain": [
       "{'input': 'how about based on market cap? is it also negative?',\n",
       " 'history': [HumanMessage(content=\"Hi, I'm Wilsen\"),\n",
       "  AIMessage(content=\"Hi Wilsen! It's nice to meet you. Is there something I can help you with or would you like to chat about something in particular?\"),\n",
       "  HumanMessage(content='Who am I'),\n",
       "  AIMessage(content=\"You're Wilsen! We just introduced ourselves a moment ago. Is there something specific you'd like to know or talk about, Wilsen?\"),\n",
       "  HumanMessage(content='Based on the closing prices of BBRI from April 1 2024 to April 28 2024, is the trend positive or negative? Give me the detailed reason'),\n",
       "  AIMessage(content=\"Based on the closing prices of BBRI from April 1, 2024, to April 28, 2024, the trend is negative.\\n\\nHere's a detailed reason:\\n\\nThe highest closing price was 5925 on April 1, 2024, and the lowest closing price was 4830 on April 26, 2024. Throughout the period, the closing prices generally decreased, with some fluctuations. The overall direction is downward, indicating a negative trend.\\n\\nTo give you a better idea, here's a brief summary of the closing prices:\\n\\n* The first half of the period (April 1-5) saw a decline in closing prices, from 5925 to 5650.\\n* The second half of the period (April 16-28) saw another decline, from 5350 to 4830.\\n\\nThis consistent downward movement indicates a negative trend in the closing prices of BBRI during the specified period.\")],\n",
       " 'output': \"Based on the market capitalization data, the trend is also negative.\\n\\nHere's a brief analysis:\\n\\n* The highest market capitalization was 893,436,680,994,816 on April 1, 2024.\\n* The lowest market capitalization was 728,320,488,505,344 on April 26, 2024.\\n* Throughout the period, the market capitalization generally decreased, with some fluctuations. The overall direction is downward, indicating a negative trend.\\n\\nThe market capitalization decreased by approximately 165,116,192,489,472 (or about 18.5%) from April 1 to April 26, 2024. This significant decline in market capitalization indicates a negative trend.\"}"
      ]
     },
     "execution_count": 216,
     "metadata": {},
     "output_type": "execute_result"
    }
   ],
   "source": [
    "agent_executor_w_memory.invoke(\n",
    "    {\"input\": \"how about based on market cap? is it also negative?\"},\n",
    "    config={\"configurable\": {\"session_id\": \"abc123\"}},\n",
    ")"
   ]
  },
  {
   "cell_type": "code",
   "execution_count": 265,
   "metadata": {},
   "outputs": [
    {
     "data": {
      "text/plain": [
       "InMemoryChatMessageHistory(messages=[HumanMessage(content=\"Hi, I'm Wilsen\"), AIMessage(content=\"Hi Wilsen! It's nice to meet you. Is there something I can help you with or would you like to chat about something in particular?\"), HumanMessage(content=\"Hi, I'm Wilsen\"), AIMessage(content=\"Hi Wilsen! It's nice to meet you. Is there something I can help you with or would you like to chat about something in particular?\"), HumanMessage(content=\"Hi, I'm Wilsen\"), AIMessage(content=\"Hi Wilsen! How's your day going so far?\"), HumanMessage(content=\"Hi, I'm Wilsen\"), AIMessage(content='Hi Wilsen! What brings you here today?'), HumanMessage(content='Who am I?'), AIMessage(content=\"You're Wilsen!\"), HumanMessage(content='Based on the closing prices of BBRI from April 1 2024 to April 28 2024, is the trend positive or negative? Give me the detailed reason'), AIMessage(content='Based on the closing prices of BBRI from April 1, 2024, to April 28, 2024, the trend is negative.\\n\\nThe highest closing price was 5925 on April 1, 2024, and the lowest closing price was 4830 on April 26, 2024. The closing prices generally decreased over the period, with some fluctuations. The overall direction is downward, indicating a negative trend.'), HumanMessage(content='how about based on market cap? is it also negative?'), AIMessage(content='Based on the market capitalization data, the trend is also negative. The highest market capitalization was 893,436,680,994,816 on April 1, 2024, and the lowest was 728,320,488,505,344 on April 26, 2024. The market capitalization generally decreased over the period, with some fluctuations. The overall direction is downward, indicating a negative trend.'), HumanMessage(content='how about based on volume? is it also negative?'), AIMessage(content='Based on the volume data, the trend is mixed. The highest volume was 782589900 on April 26, 2024, and the lowest was 131936100 on April 4, 2024. The volume fluctuated over the period, with no clear overall direction. Therefore, the trend is neutral.')])"
      ]
     },
     "execution_count": 265,
     "metadata": {},
     "output_type": "execute_result"
    }
   ],
   "source": [
    "history"
   ]
  },
  {
   "cell_type": "markdown",
   "metadata": {},
   "source": [
    "# Add agent scratchpad / intermediate step"
   ]
  },
  {
   "cell_type": "code",
   "execution_count": 266,
   "metadata": {},
   "outputs": [],
   "source": [
    "prompt = ChatPromptTemplate.from_messages([\n",
    "    (\"system\", \"you're a helpful assistant\"),\n",
    "    (\"placeholder\", \"{history}\"), # add this or could be: MessagesPlaceholder(variable_name=\"history\"),\n",
    "    (\"human\", \"{input}\"),\n",
    "    (\"placeholder\", \"{agent_scratchpad}\"),\n",
    "])\n",
    "\n",
    "tools = [get_daily_transaction_data_tool]\n",
    "\n",
    "agent = create_tool_calling_agent(llm, tools, prompt)\n",
    "agent_executor = AgentExecutor(agent=agent, tools=tools, verbose = True, return_intermediate_steps=True)"
   ]
  },
  {
   "cell_type": "code",
   "execution_count": 250,
   "metadata": {},
   "outputs": [
    {
     "data": {
      "text/plain": [
       "[AIMessageChunk(content='', additional_kwargs={'tool_calls': [{'id': 'call_d7d1', 'function': {'arguments': '{\"start_date\":\"2024-04-01\",\"end_date\":\"2024-04-28\",\"stock\":\"BBRI\"}', 'name': 'get_daily_transaction_data'}, 'type': 'function'}]}, response_metadata={'finish_reason': 'tool_calls', 'logprobs': None}, id='run-d1c0ada3-a21f-4fec-acd3-d5b0858d6d5c', tool_calls=[{'name': 'get_daily_transaction_data', 'args': {'start_date': '2024-04-01', 'end_date': '2024-04-28', 'stock': 'BBRI'}, 'id': 'call_d7d1'}], tool_call_chunks=[{'name': 'get_daily_transaction_data', 'args': '{\"start_date\":\"2024-04-01\",\"end_date\":\"2024-04-28\",\"stock\":\"BBRI\"}', 'id': 'call_d7d1', 'index': None}]),\n",
       " FunctionMessage(content='[{\"symbol\": \"BBRI.JK\", \"date\": \"2024-04-01\", \"close\": 5925, \"volume\": 217207800, \"market_cap\": 893436680994816}, {\"symbol\": \"BBRI.JK\", \"date\": \"2024-04-02\", \"close\": 5675, \"volume\": 412180900, \"market_cap\": 855738880622592}, {\"symbol\": \"BBRI.JK\", \"date\": \"2024-04-03\", \"close\": 5625, \"volume\": 333518700, \"market_cap\": 848199333969920}, {\"symbol\": \"BBRI.JK\", \"date\": \"2024-04-04\", \"close\": 5700, \"volume\": 131936100, \"market_cap\": 867146649305088}, {\"symbol\": \"BBRI.JK\", \"date\": \"2024-04-05\", \"close\": 5650, \"volume\": 178817800, \"market_cap\": 851969107296256}, {\"symbol\": \"BBRI.JK\", \"date\": \"2024-04-16\", \"close\": 5350, \"volume\": 600717500, \"market_cap\": 806731827380224}, {\"symbol\": \"BBRI.JK\", \"date\": \"2024-04-17\", \"close\": 5300, \"volume\": 244002000, \"market_cap\": 799192280727552}, {\"symbol\": \"BBRI.JK\", \"date\": \"2024-04-18\", \"close\": 5475, \"volume\": 247410700, \"market_cap\": 825580694011904}, {\"symbol\": \"BBRI.JK\", \"date\": \"2024-04-19\", \"close\": 5275, \"volume\": 258211500, \"market_cap\": 795422507401216}, {\"symbol\": \"BBRI.JK\", \"date\": \"2024-04-22\", \"close\": 5300, \"volume\": 342282800, \"market_cap\": 799192280727552}, {\"symbol\": \"BBRI.JK\", \"date\": \"2024-04-23\", \"close\": 5300, \"volume\": 281403100, \"market_cap\": 799192280727552}, {\"symbol\": \"BBRI.JK\", \"date\": \"2024-04-24\", \"close\": 5225, \"volume\": 471241400, \"market_cap\": 787882960748544}, {\"symbol\": \"BBRI.JK\", \"date\": \"2024-04-25\", \"close\": 5150, \"volume\": 479170900, \"market_cap\": 776573640769536}, {\"symbol\": \"BBRI.JK\", \"date\": \"2024-04-26\", \"close\": 4830, \"volume\": 782589900, \"market_cap\": 728320488505344}]', name='get_daily_transaction_data')]"
      ]
     },
     "execution_count": 250,
     "metadata": {},
     "output_type": "execute_result"
    }
   ],
   "source": [
    "from langchain.agents.format_scratchpad import format_to_openai_functions\n",
    "agent_scratchpad = format_to_openai_functions(result['intermediate_steps'])\n",
    "len(agent_scratchpad)\n",
    "agent_scratchpad"
   ]
  },
  {
   "cell_type": "code",
   "execution_count": 274,
   "metadata": {},
   "outputs": [
    {
     "name": "stdout",
     "output_type": "stream",
     "text": [
      "History: {}\n"
     ]
    }
   ],
   "source": [
    "store = {} # This dictionary acts like a dummy database that save the message history\n",
    "print(\"History:\", store)\n",
    "\n",
    "def get_session_history(session_id: str) -> BaseChatMessageHistory:\n",
    "    if session_id not in store:\n",
    "        store[session_id] = ChatMessageHistory()\n",
    "    return store[session_id]\n",
    "\n",
    "agent_executor_w_memory = RunnableWithMessageHistory(\n",
    "    agent_executor,\n",
    "    get_session_history,\n",
    "    input_messages_key=\"input\",\n",
    "    history_messages_key=\"history\"\n",
    ")"
   ]
  },
  {
   "cell_type": "code",
   "execution_count": 275,
   "metadata": {},
   "outputs": [
    {
     "name": "stdout",
     "output_type": "stream",
     "text": [
      "\n",
      "\n",
      "\u001b[1m> Entering new AgentExecutor chain...\u001b[0m\n",
      "\u001b[32;1m\u001b[1;3mHi Wilsen! It's nice to meet you. Is there something I can help you with or would you like to chat about something in particular?\u001b[0m\n",
      "\n",
      "\u001b[1m> Finished chain.\u001b[0m\n"
     ]
    }
   ],
   "source": [
    "result = agent_executor_w_memory.invoke(\n",
    "    {\"input\": \"Hi, I'm Wilsen\"},\n",
    "     config={\"configurable\": {\"session_id\": \"abc123\"}},\n",
    ")\n",
    "\n",
    "history = get_session_history(\"abc123\")\n",
    "intermediate_steps = format_to_openai_functions(result['intermediate_steps'])\n",
    "\n",
    "if len(intermediate_steps) > 0:\n",
    "    history.add_message(intermediate_steps[1])"
   ]
  },
  {
   "cell_type": "code",
   "execution_count": 276,
   "metadata": {},
   "outputs": [
    {
     "name": "stdout",
     "output_type": "stream",
     "text": [
      "\n",
      "\n",
      "\u001b[1m> Entering new AgentExecutor chain...\u001b[0m\n",
      "\u001b[32;1m\u001b[1;3mYou're Wilsen!\u001b[0m\n",
      "\n",
      "\u001b[1m> Finished chain.\u001b[0m\n"
     ]
    }
   ],
   "source": [
    "result = agent_executor_w_memory.invoke(\n",
    "    {\"input\": \"Who am I?\" },\n",
    "    config={\"configurable\": {\"session_id\": \"abc123\"}},\n",
    ")\n",
    "\n",
    "intermediate_steps = format_to_openai_functions(result['intermediate_steps'])\n",
    "\n",
    "if len(intermediate_steps) > 0:\n",
    "    history.add_message(intermediate_steps[1])"
   ]
  },
  {
   "cell_type": "code",
   "execution_count": 278,
   "metadata": {},
   "outputs": [
    {
     "name": "stdout",
     "output_type": "stream",
     "text": [
      "\n",
      "\n",
      "\u001b[1m> Entering new AgentExecutor chain...\u001b[0m\n",
      "\u001b[32;1m\u001b[1;3m\n",
      "Invoking: `get_daily_transaction_data` with `{'start_date': '2024-04-01', 'end_date': '2024-04-28', 'stock': 'BBRI'}`\n",
      "\n",
      "\n",
      "\u001b[0m\u001b[36;1m\u001b[1;3m[{\"symbol\": \"BBRI.JK\", \"date\": \"2024-04-01\", \"close\": 5925, \"volume\": 217207800, \"market_cap\": 893436680994816}, {\"symbol\": \"BBRI.JK\", \"date\": \"2024-04-02\", \"close\": 5675, \"volume\": 412180900, \"market_cap\": 855738880622592}, {\"symbol\": \"BBRI.JK\", \"date\": \"2024-04-03\", \"close\": 5625, \"volume\": 333518700, \"market_cap\": 848199333969920}, {\"symbol\": \"BBRI.JK\", \"date\": \"2024-04-04\", \"close\": 5700, \"volume\": 131936100, \"market_cap\": 867146649305088}, {\"symbol\": \"BBRI.JK\", \"date\": \"2024-04-05\", \"close\": 5650, \"volume\": 178817800, \"market_cap\": 851969107296256}, {\"symbol\": \"BBRI.JK\", \"date\": \"2024-04-16\", \"close\": 5350, \"volume\": 600717500, \"market_cap\": 806731827380224}, {\"symbol\": \"BBRI.JK\", \"date\": \"2024-04-17\", \"close\": 5300, \"volume\": 244002000, \"market_cap\": 799192280727552}, {\"symbol\": \"BBRI.JK\", \"date\": \"2024-04-18\", \"close\": 5475, \"volume\": 247410700, \"market_cap\": 825580694011904}, {\"symbol\": \"BBRI.JK\", \"date\": \"2024-04-19\", \"close\": 5275, \"volume\": 258211500, \"market_cap\": 795422507401216}, {\"symbol\": \"BBRI.JK\", \"date\": \"2024-04-22\", \"close\": 5300, \"volume\": 342282800, \"market_cap\": 799192280727552}, {\"symbol\": \"BBRI.JK\", \"date\": \"2024-04-23\", \"close\": 5300, \"volume\": 281403100, \"market_cap\": 799192280727552}, {\"symbol\": \"BBRI.JK\", \"date\": \"2024-04-24\", \"close\": 5225, \"volume\": 471241400, \"market_cap\": 787882960748544}, {\"symbol\": \"BBRI.JK\", \"date\": \"2024-04-25\", \"close\": 5150, \"volume\": 479170900, \"market_cap\": 776573640769536}, {\"symbol\": \"BBRI.JK\", \"date\": \"2024-04-26\", \"close\": 4830, \"volume\": 782589900, \"market_cap\": 728320488505344}]\u001b[0m\u001b[32;1m\u001b[1;3mBased on the closing prices of BBRI from April 1, 2024, to April 28, 2024, the trend is negative.\n",
      "\n",
      "The highest closing price was 5925 on April 1, 2024, and the lowest closing price was 4830 on April 26, 2024. Throughout the period, the closing prices generally decreased, with some fluctuations. The overall direction is downward, indicating a negative trend.\u001b[0m\n",
      "\n",
      "\u001b[1m> Finished chain.\u001b[0m\n"
     ]
    }
   ],
   "source": [
    "result = agent_executor_w_memory.invoke(\n",
    "    {\"input\": query},\n",
    "    config={\"configurable\": {\"session_id\": \"abc123\"}},\n",
    ")\n",
    "\n",
    "intermediate_steps = format_to_openai_functions(result['intermediate_steps'])\n",
    "\n",
    "if len(intermediate_steps) > 0:\n",
    "    history.add_message(intermediate_steps[1])"
   ]
  },
  {
   "cell_type": "code",
   "execution_count": 279,
   "metadata": {},
   "outputs": [
    {
     "data": {
      "text/plain": [
       "InMemoryChatMessageHistory(messages=[HumanMessage(content=\"Hi, I'm Wilsen\"), AIMessage(content=\"Hi Wilsen! It's nice to meet you. Is there something I can help you with or would you like to chat about something in particular?\"), HumanMessage(content='Who am I?'), AIMessage(content=\"You're Wilsen!\"), HumanMessage(content='Based on the closing prices of BBRI from April 1 2024 to April 28 2024, is the trend positive or negative? Give me the detailed reason'), AIMessage(content='Based on the closing prices of BBRI from April 1, 2024, to April 28, 2024, the trend is negative.\\n\\nThe highest closing price was 5925 on April 1, 2024, and the lowest closing price was 4830 on April 26, 2024. Throughout the period, the closing prices generally decreased, with some fluctuations. The overall direction is downward, indicating a negative trend.'), FunctionMessage(content='[{\"symbol\": \"BBRI.JK\", \"date\": \"2024-04-01\", \"close\": 5925, \"volume\": 217207800, \"market_cap\": 893436680994816}, {\"symbol\": \"BBRI.JK\", \"date\": \"2024-04-02\", \"close\": 5675, \"volume\": 412180900, \"market_cap\": 855738880622592}, {\"symbol\": \"BBRI.JK\", \"date\": \"2024-04-03\", \"close\": 5625, \"volume\": 333518700, \"market_cap\": 848199333969920}, {\"symbol\": \"BBRI.JK\", \"date\": \"2024-04-04\", \"close\": 5700, \"volume\": 131936100, \"market_cap\": 867146649305088}, {\"symbol\": \"BBRI.JK\", \"date\": \"2024-04-05\", \"close\": 5650, \"volume\": 178817800, \"market_cap\": 851969107296256}, {\"symbol\": \"BBRI.JK\", \"date\": \"2024-04-16\", \"close\": 5350, \"volume\": 600717500, \"market_cap\": 806731827380224}, {\"symbol\": \"BBRI.JK\", \"date\": \"2024-04-17\", \"close\": 5300, \"volume\": 244002000, \"market_cap\": 799192280727552}, {\"symbol\": \"BBRI.JK\", \"date\": \"2024-04-18\", \"close\": 5475, \"volume\": 247410700, \"market_cap\": 825580694011904}, {\"symbol\": \"BBRI.JK\", \"date\": \"2024-04-19\", \"close\": 5275, \"volume\": 258211500, \"market_cap\": 795422507401216}, {\"symbol\": \"BBRI.JK\", \"date\": \"2024-04-22\", \"close\": 5300, \"volume\": 342282800, \"market_cap\": 799192280727552}, {\"symbol\": \"BBRI.JK\", \"date\": \"2024-04-23\", \"close\": 5300, \"volume\": 281403100, \"market_cap\": 799192280727552}, {\"symbol\": \"BBRI.JK\", \"date\": \"2024-04-24\", \"close\": 5225, \"volume\": 471241400, \"market_cap\": 787882960748544}, {\"symbol\": \"BBRI.JK\", \"date\": \"2024-04-25\", \"close\": 5150, \"volume\": 479170900, \"market_cap\": 776573640769536}, {\"symbol\": \"BBRI.JK\", \"date\": \"2024-04-26\", \"close\": 4830, \"volume\": 782589900, \"market_cap\": 728320488505344}]', name='get_daily_transaction_data')])"
      ]
     },
     "execution_count": 279,
     "metadata": {},
     "output_type": "execute_result"
    }
   ],
   "source": [
    "history"
   ]
  },
  {
   "cell_type": "code",
   "execution_count": 280,
   "metadata": {},
   "outputs": [
    {
     "data": {
      "text/plain": [
       "{'input': 'Based on the closing prices of BBRI from April 1 2024 to April 28 2024, is the trend positive or negative? Give me the detailed reason',\n",
       " 'history': [HumanMessage(content=\"Hi, I'm Wilsen\"),\n",
       "  AIMessage(content=\"Hi Wilsen! It's nice to meet you. Is there something I can help you with or would you like to chat about something in particular?\"),\n",
       "  HumanMessage(content='Who am I?'),\n",
       "  AIMessage(content=\"You're Wilsen!\")],\n",
       " 'output': 'Based on the closing prices of BBRI from April 1, 2024, to April 28, 2024, the trend is negative.\\n\\nThe highest closing price was 5925 on April 1, 2024, and the lowest closing price was 4830 on April 26, 2024. Throughout the period, the closing prices generally decreased, with some fluctuations. The overall direction is downward, indicating a negative trend.',\n",
       " 'intermediate_steps': [(ToolAgentAction(tool='get_daily_transaction_data', tool_input={'start_date': '2024-04-01', 'end_date': '2024-04-28', 'stock': 'BBRI'}, log=\"\\nInvoking: `get_daily_transaction_data` with `{'start_date': '2024-04-01', 'end_date': '2024-04-28', 'stock': 'BBRI'}`\\n\\n\\n\", message_log=[AIMessageChunk(content='', additional_kwargs={'tool_calls': [{'id': 'call_3kd7', 'function': {'arguments': '{\"start_date\":\"2024-04-01\",\"end_date\":\"2024-04-28\",\"stock\":\"BBRI\"}', 'name': 'get_daily_transaction_data'}, 'type': 'function'}]}, response_metadata={'finish_reason': 'tool_calls', 'logprobs': None}, id='run-6389614a-8641-43ae-baba-4b368a4e7fcf', tool_calls=[{'name': 'get_daily_transaction_data', 'args': {'start_date': '2024-04-01', 'end_date': '2024-04-28', 'stock': 'BBRI'}, 'id': 'call_3kd7'}], tool_call_chunks=[{'name': 'get_daily_transaction_data', 'args': '{\"start_date\":\"2024-04-01\",\"end_date\":\"2024-04-28\",\"stock\":\"BBRI\"}', 'id': 'call_3kd7', 'index': None}])], tool_call_id='call_3kd7'),\n",
       "   '[{\"symbol\": \"BBRI.JK\", \"date\": \"2024-04-01\", \"close\": 5925, \"volume\": 217207800, \"market_cap\": 893436680994816}, {\"symbol\": \"BBRI.JK\", \"date\": \"2024-04-02\", \"close\": 5675, \"volume\": 412180900, \"market_cap\": 855738880622592}, {\"symbol\": \"BBRI.JK\", \"date\": \"2024-04-03\", \"close\": 5625, \"volume\": 333518700, \"market_cap\": 848199333969920}, {\"symbol\": \"BBRI.JK\", \"date\": \"2024-04-04\", \"close\": 5700, \"volume\": 131936100, \"market_cap\": 867146649305088}, {\"symbol\": \"BBRI.JK\", \"date\": \"2024-04-05\", \"close\": 5650, \"volume\": 178817800, \"market_cap\": 851969107296256}, {\"symbol\": \"BBRI.JK\", \"date\": \"2024-04-16\", \"close\": 5350, \"volume\": 600717500, \"market_cap\": 806731827380224}, {\"symbol\": \"BBRI.JK\", \"date\": \"2024-04-17\", \"close\": 5300, \"volume\": 244002000, \"market_cap\": 799192280727552}, {\"symbol\": \"BBRI.JK\", \"date\": \"2024-04-18\", \"close\": 5475, \"volume\": 247410700, \"market_cap\": 825580694011904}, {\"symbol\": \"BBRI.JK\", \"date\": \"2024-04-19\", \"close\": 5275, \"volume\": 258211500, \"market_cap\": 795422507401216}, {\"symbol\": \"BBRI.JK\", \"date\": \"2024-04-22\", \"close\": 5300, \"volume\": 342282800, \"market_cap\": 799192280727552}, {\"symbol\": \"BBRI.JK\", \"date\": \"2024-04-23\", \"close\": 5300, \"volume\": 281403100, \"market_cap\": 799192280727552}, {\"symbol\": \"BBRI.JK\", \"date\": \"2024-04-24\", \"close\": 5225, \"volume\": 471241400, \"market_cap\": 787882960748544}, {\"symbol\": \"BBRI.JK\", \"date\": \"2024-04-25\", \"close\": 5150, \"volume\": 479170900, \"market_cap\": 776573640769536}, {\"symbol\": \"BBRI.JK\", \"date\": \"2024-04-26\", \"close\": 4830, \"volume\": 782589900, \"market_cap\": 728320488505344}]')]}"
      ]
     },
     "execution_count": 280,
     "metadata": {},
     "output_type": "execute_result"
    }
   ],
   "source": [
    "result"
   ]
  },
  {
   "cell_type": "code",
   "execution_count": 281,
   "metadata": {},
   "outputs": [
    {
     "name": "stdout",
     "output_type": "stream",
     "text": [
      "\n",
      "\n",
      "\u001b[1m> Entering new AgentExecutor chain...\u001b[0m\n",
      "\u001b[32;1m\u001b[1;3mLet me analyze the market capitalization data.\n",
      "\n",
      "The highest market capitalization was 893,436,680,994,816 on April 1, 2024, and the lowest was 728,320,488,505,344 on April 26, 2024. Throughout the period, the market capitalization generally decreased, with some fluctuations. The overall direction is downward, indicating a negative trend.\n",
      "\n",
      "So, based on the market capitalization data, the trend is also negative.\u001b[0m\n",
      "\n",
      "\u001b[1m> Finished chain.\u001b[0m\n"
     ]
    }
   ],
   "source": [
    "result = agent_executor_w_memory.invoke(\n",
    "    {\"input\": \"how about based on market cap? is it also negative?\"},\n",
    "    config={\"configurable\": {\"session_id\": \"abc123\"}},\n",
    ")\n",
    "\n",
    "intermediate_steps = format_to_openai_functions(result['intermediate_steps'])\n",
    "\n",
    "if len(intermediate_steps) > 0:\n",
    "    history.add_message(intermediate_steps[1])"
   ]
  },
  {
   "cell_type": "markdown",
   "metadata": {},
   "source": [
    "# Stream"
   ]
  },
  {
   "cell_type": "code",
   "execution_count": null,
   "metadata": {},
   "outputs": [],
   "source": [
    "llm_stream = ChatGroq(temperature=0, model_name=\"llama3-70b-8192\", groq_api_key = groq_api_key, streaming= True)\n",
    "prompt = ChatPromptTemplate.from_messages([\n",
    "    (\"system\", \"you're a helpful assistant\"),\n",
    "    (\"human\", \"{input}\"),\n",
    "    (\"placeholder\", \"{agent_scratchpad}\"),\n",
    "])\n",
    "\n",
    "tools = [get_daily_transaction_data_tool]\n",
    "\n",
    "agent = create_tool_calling_agent(llm_stream, tools, prompt)\n",
    "agent_executor = AgentExecutor(agent=agent, tools=tools)\n",
    "\n",
    "query = \"Based on the closing prices of BBRII from April 1 2024 to April 28 2024, is the trend positive or negative? Give me the detailed reason\"\n",
    "print(\"Question:\", query)\n",
    "result = agent_executor.stream({\"input\": query})\n",
    "list(agent_executor.stream({\"input\": query}))\n",
    "# print(\"Answer:\",result['output'])"
   ]
  },
  {
   "cell_type": "markdown",
   "metadata": {},
   "source": [
    "# Async"
   ]
  },
  {
   "cell_type": "code",
   "execution_count": null,
   "metadata": {},
   "outputs": [],
   "source": [
    "from langchain_core.tools import StructuredTool\n",
    "\n",
    "\n",
    "def multiply(a: int, b: int) -> int:\n",
    "    \"\"\"Multiply two numbers.\"\"\"\n",
    "    return a * b\n",
    "\n",
    "\n",
    "async def amultiply(a: int, b: int) -> int:\n",
    "    \"\"\"Multiply two numbers.\"\"\"\n",
    "    return a * b\n",
    "\n",
    "\n",
    "calculator = StructuredTool.from_function(func=multiply, coroutine=amultiply)\n",
    "\n",
    "print(await calculator.ainvoke({\"a\": 2, \"b\": 3}))\n",
    "print(calculator.invoke({\"a\": 2, \"b\": 3}))"
   ]
  },
  {
   "cell_type": "code",
   "execution_count": null,
   "metadata": {},
   "outputs": [],
   "source": [
    "@tool\n",
    "async def multiply(a: int, b: int) -> int:\n",
    "    \"\"\"Multiply two numbers.\"\"\"\n",
    "    return a * b\n",
    "\n",
    "\n",
    "try:\n",
    "    print(await multiply.ainvoke({\"a\": 2, \"b\": 3}))\n",
    "except NotImplementedError:\n",
    "    print(\"Raised not implemented error. You should not be doing this.\")"
   ]
  }
 ],
 "metadata": {
  "kernelspec": {
   "display_name": "venv",
   "language": "python",
   "name": "python3"
  },
  "language_info": {
   "codemirror_mode": {
    "name": "ipython",
    "version": 3
   },
   "file_extension": ".py",
   "mimetype": "text/x-python",
   "name": "python",
   "nbconvert_exporter": "python",
   "pygments_lexer": "ipython3",
   "version": "3.10.11"
  }
 },
 "nbformat": 4,
 "nbformat_minor": 2
}
